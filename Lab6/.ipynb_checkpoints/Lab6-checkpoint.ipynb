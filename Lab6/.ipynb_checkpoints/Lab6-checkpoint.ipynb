{
 "cells": [
  {
   "cell_type": "markdown",
   "id": "fd31d236-aa07-4289-b9bf-bea5531e27a9",
   "metadata": {},
   "source": [
    "Builtin Functions"
   ]
  },
  {
   "cell_type": "code",
   "execution_count": 2,
   "id": "1a42563d-e065-4ca0-90f6-ac1f1e2fd799",
   "metadata": {},
   "outputs": [
    {
     "name": "stdout",
     "output_type": "stream",
     "text": [
      "120\n"
     ]
    }
   ],
   "source": [
    "def mult(arr):\n",
    "    res = 1\n",
    "    for j in arr:\n",
    "        res *= int(j)\n",
    "    return res\n",
    "\n",
    "\n",
    "arr = [1, 2, 3, 4, 5]\n",
    "for i in arr:\n",
    "    if not str(i).isdigit():\n",
    "        raise ValueError('Need only digits')\n",
    "\n",
    "print(mult(arr))"
   ]
  },
  {
   "cell_type": "code",
   "execution_count": 4,
   "id": "b1bb6d85-23ee-4a50-a4db-c4e0aa6fc816",
   "metadata": {},
   "outputs": [
    {
     "name": "stdout",
     "output_type": "stream",
     "text": [
      "low_case: 5, upper_case: 0\n"
     ]
    }
   ],
   "source": [
    "def low_up(string):\n",
    "    low_case = 0\n",
    "    upper_case = 0\n",
    "\n",
    "    for i in string:\n",
    "        if i.islower():\n",
    "            low_case += 1\n",
    "        elif i.isupper():\n",
    "            upper_case += 1\n",
    "    return low_case, upper_case\n",
    "\n",
    "\n",
    "string = 'hello'\n",
    "illig_val = '!@#$%^&*()_+=-/;:?'\n",
    "if isinstance(string, str):\n",
    "    for i in string:\n",
    "        if i.isdigit() or i in illig_val:\n",
    "            raise ValueError('Digit or spec_symb in str')\n",
    "else:\n",
    "    raise ValueError('Not str')\n",
    "ob = low_up(string)\n",
    "print(f'low_case: {ob[0]}, upper_case: {ob[1]}')"
   ]
  },
  {
   "cell_type": "code",
   "execution_count": 6,
   "id": "b44c9244-36e6-43d9-9c30-d1f895740eb2",
   "metadata": {},
   "outputs": [
    {
     "name": "stdout",
     "output_type": "stream",
     "text": [
      "String is palidrom\n"
     ]
    }
   ],
   "source": [
    "def palidrom(string):\n",
    "    reverse = ''.join(reversed(string))\n",
    "\n",
    "    if string == reverse:\n",
    "        return True\n",
    "    return False\n",
    "\n",
    "\n",
    "string = 'abba'\n",
    "if isinstance(string, str):\n",
    "    if palidrom(string):\n",
    "        print('String is palidrom')\n",
    "    else:\n",
    "        print('String is not palidrom')\n",
    "else:\n",
    "    raise ValueError('Input is not a string')"
   ]
  },
  {
   "cell_type": "code",
   "execution_count": 12,
   "id": "f7dea99b-5104-4d94-8584-5affc2dbc61d",
   "metadata": {},
   "outputs": [
    {
     "name": "stdin",
     "output_type": "stream",
     "text": [
      " 300\n",
      " 10\n"
     ]
    },
    {
     "name": "stdout",
     "output_type": "stream",
     "text": [
      "Square root of 300 after 10 miliseconds is 17.320508075688775\n"
     ]
    }
   ],
   "source": [
    "import time\n",
    "\n",
    "num = input()\n",
    "miliseconds = input()\n",
    "try:\n",
    "    num = int(num)\n",
    "    milli = int(miliseconds)\n",
    "    seconds = milli / 1000\n",
    "    time.sleep(seconds)\n",
    "    print(f'Square root of {num} after {miliseconds} miliseconds is {pow(num, 0.5)}')\n",
    "except ValueError:\n",
    "    raise ValueError('Not int')"
   ]
  },
  {
   "cell_type": "code",
   "execution_count": 14,
   "id": "d0359b45-9052-4cf9-a555-906fc27ebe7b",
   "metadata": {},
   "outputs": [
    {
     "name": "stdout",
     "output_type": "stream",
     "text": [
      "True\n"
     ]
    }
   ],
   "source": [
    "def all_true(tup):\n",
    "    return all(tup)\n",
    "\n",
    "\n",
    "tup = (True, True, True)\n",
    "if isinstance(tup, tuple):\n",
    "    print(all_true(tup))\n",
    "else:\n",
    "    raise ValueError('Is not tuple')"
   ]
  },
  {
   "cell_type": "markdown",
   "id": "50877501-c7cc-4874-ab68-e75519908918",
   "metadata": {},
   "source": [
    "Directories"
   ]
  },
  {
   "cell_type": "code",
   "execution_count": 26,
   "id": "db2cec54-08b3-4ef0-a48a-0d5d361c629a",
   "metadata": {},
   "outputs": [
    {
     "name": "stdin",
     "output_type": "stream",
     "text": [
      " /Users/bmk/Desktop/Student/3 Course 2 part/PP2/Lab6\n"
     ]
    },
    {
     "name": "stdout",
     "output_type": "stream",
     "text": [
      "/Users/bmk/Desktop/Student/3 Course 2 part/PP2/Lab6\n",
      "/Users/bmk/Desktop/Student/3 Course 2 part/PP2/Lab6/for_files_from_A_to_Z\n",
      "/Users/bmk/Desktop/Student/3 Course 2 part/PP2/Lab6/.ipynb_checkpoints\n",
      "===============================================================\n",
      "['.DS_Store', 'Lab6.ipynb']\n",
      "['J.txt', 'K.txt', 'I.txt', 'H.txt', 'L.txt', 'Z.txt', 'M.txt', 'O.txt', 'X.txt', 'Y.txt', 'N.txt', 'C.txt', 'T.txt', 'U.txt', 'B.txt', 'W.txt', 'V.txt', 'A.txt', 'R.txt', 'E.txt', 'D.txt', 'S.txt', 'Q.txt', 'F.txt', 'G.txt', 'P.txt']\n",
      "['Lab6-checkpoint.ipynb']\n",
      "===============================================================\n",
      "/Users/bmk/Desktop/Student/3 Course 2 part/PP2/Lab6 ['.DS_Store', 'Lab6.ipynb']\n",
      "/Users/bmk/Desktop/Student/3 Course 2 part/PP2/Lab6/for_files_from_A_to_Z ['J.txt', 'K.txt', 'I.txt', 'H.txt', 'L.txt', 'Z.txt', 'M.txt', 'O.txt', 'X.txt', 'Y.txt', 'N.txt', 'C.txt', 'T.txt', 'U.txt', 'B.txt', 'W.txt', 'V.txt', 'A.txt', 'R.txt', 'E.txt', 'D.txt', 'S.txt', 'Q.txt', 'F.txt', 'G.txt', 'P.txt']\n",
      "/Users/bmk/Desktop/Student/3 Course 2 part/PP2/Lab6/.ipynb_checkpoints ['Lab6-checkpoint.ipynb']\n"
     ]
    }
   ],
   "source": [
    "import os\n",
    "\n",
    "path = os.path.abspath(input())\n",
    "if os.path.exists(path):\n",
    "    for folder, subfolder, files in os.walk(path):\n",
    "        print(folder)\n",
    "    print('===============================================================')\n",
    "    for folder, subfolder, files in os.walk(path):\n",
    "        print(files)\n",
    "    print('===============================================================')\n",
    "    for folder, subfolder, files in os.walk(path):\n",
    "        print(folder, files)\n",
    "else:\n",
    "    raise FileNotFoundError('No such path')"
   ]
  },
  {
   "cell_type": "code",
   "execution_count": 28,
   "id": "e2cf6b5f-beb5-42bb-b9d7-f6c469c0095a",
   "metadata": {},
   "outputs": [
    {
     "name": "stdin",
     "output_type": "stream",
     "text": [
      " /Users/bmk/Desktop/Student/3 Course 2 part/PP2/Lab6\n"
     ]
    },
    {
     "name": "stdout",
     "output_type": "stream",
     "text": [
      "Exist:  True\n",
      "Readable: True\n",
      "Writable: True\n",
      "Executable: True\n"
     ]
    },
    {
     "data": {
      "text/plain": [
       "'\\nos.F_OK: Tests existence of the path.\\nos.R_OK: Tests readability of the path.\\nos.W_OK: Tests writability of the path.\\nos.X_OK: Checks if path can be executed.\\n'"
      ]
     },
     "execution_count": 28,
     "metadata": {},
     "output_type": "execute_result"
    }
   ],
   "source": [
    "import os\n",
    "\n",
    "path = os.path.abspath(input())\n",
    "print('Exist: ', os.access(path, os.F_OK))\n",
    "print('Readable:', os.access(path, os.R_OK))\n",
    "print('Writable:', os.access(path, os.W_OK))\n",
    "print('Executable:', os.access(path, os.X_OK))\n",
    "\n",
    "\"\"\"\n",
    "os.F_OK: Tests existence of the path.\n",
    "os.R_OK: Tests readability of the path.\n",
    "os.W_OK: Tests writability of the path.\n",
    "os.X_OK: Checks if path can be executed.\n",
    "\"\"\""
   ]
  },
  {
   "cell_type": "code",
   "execution_count": 30,
   "id": "53de932b-8fe4-4b8c-b735-809b3a05b1ad",
   "metadata": {},
   "outputs": [
    {
     "name": "stdin",
     "output_type": "stream",
     "text": [
      " /Users/bmk/Desktop/Student/3 Course 2 part/PP2/Lab6\n"
     ]
    },
    {
     "name": "stdout",
     "output_type": "stream",
     "text": [
      "/Users/bmk/Desktop/Student/3 Course 2 part/PP2/Lab6 ['.DS_Store', 'Lab6.ipynb']\n",
      "/Users/bmk/Desktop/Student/3 Course 2 part/PP2/Lab6/for_files_from_A_to_Z ['J.txt', 'K.txt', 'I.txt', 'H.txt', 'L.txt', 'Z.txt', 'M.txt', 'O.txt', 'X.txt', 'Y.txt', 'N.txt', 'C.txt', 'T.txt', 'U.txt', 'B.txt', 'W.txt', 'V.txt', 'A.txt', 'R.txt', 'E.txt', 'D.txt', 'S.txt', 'Q.txt', 'F.txt', 'G.txt', 'P.txt']\n",
      "/Users/bmk/Desktop/Student/3 Course 2 part/PP2/Lab6/.ipynb_checkpoints ['Lab6-checkpoint.ipynb']\n"
     ]
    }
   ],
   "source": [
    "import os\n",
    "\n",
    "path = os.path.abspath(input())\n",
    "if os.path.exists(path):\n",
    "    for folder, subfolder, files in os.walk(path):\n",
    "        print(folder, files)\n",
    "else:\n",
    "    raise FileNotFoundError('No such path')"
   ]
  },
  {
   "cell_type": "code",
   "execution_count": 46,
   "id": "c7678af3-1497-47b9-a692-d8b9d4aee8c1",
   "metadata": {},
   "outputs": [
    {
     "name": "stdin",
     "output_type": "stream",
     "text": [
      " test\n"
     ]
    },
    {
     "name": "stdout",
     "output_type": "stream",
     "text": [
      "6\n"
     ]
    }
   ],
   "source": [
    "file_name = input()\n",
    "counter = 0\n",
    "\n",
    "try:\n",
    "    with open(file_name, 'r') as file:\n",
    "        for line in file.readlines():\n",
    "            counter += 1\n",
    "    print(counter)\n",
    "except FileNotFoundError:\n",
    "    print('No such file')"
   ]
  },
  {
   "cell_type": "code",
   "execution_count": 44,
   "id": "092df488-237f-4737-8093-f48ab0856502",
   "metadata": {},
   "outputs": [
    {
     "name": "stdin",
     "output_type": "stream",
     "text": [
      " test\n"
     ]
    }
   ],
   "source": [
    "file_name = input()\n",
    "list = [1, 2, 3, 4, 5, 6]\n",
    "\n",
    "with open(file_name, 'w') as file:\n",
    "    for i in list:\n",
    "        file.write(str(i) + '\\n')"
   ]
  },
  {
   "cell_type": "code",
   "execution_count": 50,
   "id": "79541984-0446-4e4f-a7a4-3fcad13cc657",
   "metadata": {},
   "outputs": [],
   "source": [
    "import os\n",
    "\n",
    "os.makedirs(\"for_files_from_A_to_Z\", exist_ok=True)\n",
    "for i in range(65, 91):\n",
    "    with open(f'for_files_from_A_to_Z/{chr(i)}.txt', 'w'):\n",
    "        pass"
   ]
  },
  {
   "cell_type": "code",
   "execution_count": 56,
   "id": "1b779e52-6de1-4b00-93bb-1f81ab35a3da",
   "metadata": {},
   "outputs": [
    {
     "name": "stdin",
     "output_type": "stream",
     "text": [
      " test\n",
      " test_copy\n"
     ]
    }
   ],
   "source": [
    "file_to_copy = input()\n",
    "file_to_paste = input()\n",
    "\n",
    "try:\n",
    "    with open(file_to_copy, 'r') as file1:\n",
    "        data = file1.read()\n",
    "\n",
    "    with open(file_to_paste, 'w') as file2:\n",
    "        file2.write(data)\n",
    "except FileNotFoundError:\n",
    "    print('somthing went wrong')"
   ]
  },
  {
   "cell_type": "code",
   "execution_count": 58,
   "id": "8618cdc9-c6ee-4a71-9220-f6bb7cd0d3ba",
   "metadata": {},
   "outputs": [
    {
     "name": "stdin",
     "output_type": "stream",
     "text": [
      "Введите путь к файлу:  /Users/bmk/Desktop/Student/3 Course 2 part/PP2/Lab6/test_copy\n"
     ]
    },
    {
     "name": "stdout",
     "output_type": "stream",
     "text": [
      "Файл успешно удалён.\n"
     ]
    }
   ],
   "source": [
    "import os\n",
    "\n",
    "path = os.path.abspath(input(\"Введите путь к файлу: \"))\n",
    "\n",
    "if os.path.exists(path) and os.access(path, os.R_OK) and os.access(path, os.W_OK):\n",
    "    try:\n",
    "        os.remove(path)\n",
    "        print(\"Файл успешно удалён.\")\n",
    "    except Exception as e:\n",
    "        print(f\"Ошибка при удалении: {e}\")\n",
    "else:\n",
    "    print(\"Ошибка: недостаточно прав или файл не существует.\")\n"
   ]
  },
  {
   "cell_type": "code",
   "execution_count": null,
   "id": "29cb5a8f-eb17-4043-993c-51ae356a5a8c",
   "metadata": {},
   "outputs": [],
   "source": []
  }
 ],
 "metadata": {
  "kernelspec": {
   "display_name": "Python [conda env:base] *",
   "language": "python",
   "name": "conda-base-py"
  },
  "language_info": {
   "codemirror_mode": {
    "name": "ipython",
    "version": 3
   },
   "file_extension": ".py",
   "mimetype": "text/x-python",
   "name": "python",
   "nbconvert_exporter": "python",
   "pygments_lexer": "ipython3",
   "version": "3.12.7"
  }
 },
 "nbformat": 4,
 "nbformat_minor": 5
}
