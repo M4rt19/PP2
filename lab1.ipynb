{
 "cells": [
  {
   "cell_type": "markdown",
   "id": "960e1b74-71c3-4620-8bdf-af5d3e59fcdd",
   "metadata": {},
   "source": [
    "Python Home"
   ]
  },
  {
   "cell_type": "code",
   "execution_count": 5,
   "id": "6ed1e0ab-0b12-4711-8862-867fd3a5965f",
   "metadata": {},
   "outputs": [
    {
     "name": "stdout",
     "output_type": "stream",
     "text": [
      "Hello, World!\n"
     ]
    }
   ],
   "source": [
    "print('Hello, World!')"
   ]
  },
  {
   "cell_type": "markdown",
   "id": "c138c2a5-f90d-4750-9785-12b9ace8124a",
   "metadata": {},
   "source": [
    "Test"
   ]
  },
  {
   "cell_type": "code",
   "execution_count": 1,
   "id": "8ce73f31-c8ea-4590-b951-3d322112789d",
   "metadata": {},
   "outputs": [],
   "source": [
    "#What is a correct way to declare a Python variable?\n",
    "x = 5"
   ]
  },
  {
   "cell_type": "code",
   "execution_count": 3,
   "id": "744b71a2-18e9-4999-9b6a-72a1e23613cf",
   "metadata": {},
   "outputs": [],
   "source": [
    "#True or False: You can declare string variables with single or double quotes.\n",
    "x = \"John\"\n",
    "#same as\n",
    "x = 'John'\n",
    "# true"
   ]
  },
  {
   "cell_type": "code",
   "execution_count": 5,
   "id": "d9345eb5-e8ca-404d-b6c2-6ca52c977312",
   "metadata": {},
   "outputs": [],
   "source": [
    "#True or False: Variable names are not case-sensitive.\n",
    "a = 5\n",
    "#same as\n",
    "A = 5\n",
    "# false"
   ]
  },
  {
   "cell_type": "markdown",
   "id": "bea0e561-9c11-4d64-8148-ac1485d4c5f2",
   "metadata": {},
   "source": [
    "#Select the correct functions to print the data type of a variable:\n",
    "----(----(myvar)) -> print(type(myvar))"
   ]
  },
  {
   "cell_type": "markdown",
   "id": "601c7466-5258-43f2-bf6a-75dce2ec741e",
   "metadata": {},
   "source": [
    "Python Get Started"
   ]
  },
  {
   "cell_type": "code",
   "execution_count": 9,
   "id": "bb837427-4dd2-4186-b6b0-6f7c5c169baa",
   "metadata": {},
   "outputs": [
    {
     "name": "stdout",
     "output_type": "stream",
     "text": [
      "3.12.7 | packaged by Anaconda, Inc. | (main, Oct  4 2024, 08:22:19) [Clang 14.0.6 ]\n"
     ]
    }
   ],
   "source": [
    "import sys\n",
    "\n",
    "print(sys.version)"
   ]
  },
  {
   "cell_type": "code",
   "execution_count": 11,
   "id": "3c84b2e5-9e49-44c0-918b-a6d638a98f86",
   "metadata": {},
   "outputs": [],
   "source": [
    "exit() #in command line"
   ]
  },
  {
   "cell_type": "markdown",
   "id": "9960d91f-8bdb-4280-b768-b2eb21158e55",
   "metadata": {},
   "source": [
    "Test"
   ]
  },
  {
   "cell_type": "markdown",
   "id": "2fbf5b56-23c4-4e55-bea3-92459ebeda59",
   "metadata": {},
   "source": [
    "1) What is the correct file extension for Python files?\n",
    "answer: .py\n",
    "2) What is a correct command line syntax for checking if python is installed on your computer? (And also to check the Python version)\n",
    "answer: python --version\n",
    "3) What is a correct syntax to exit the Python command line interface?\n",
    "answer: exit()"
   ]
  },
  {
   "cell_type": "markdown",
   "id": "baae9088-8418-4f39-b6f9-88db024a072b",
   "metadata": {},
   "source": [
    "Python Syntax"
   ]
  },
  {
   "cell_type": "code",
   "execution_count": null,
   "id": "4e9e02b8-7c4e-4fce-aa35-0c35c7aefa78",
   "metadata": {},
   "outputs": [],
   "source": [
    "x = 5\n",
    "y = \"Hello, World!\""
   ]
  },
  {
   "cell_type": "code",
   "execution_count": null,
   "id": "e90c8130-325a-473c-9c74-a52652a7f225",
   "metadata": {},
   "outputs": [],
   "source": [
    "#This is a comment\n",
    "print('Hello, World!')"
   ]
  },
  {
   "cell_type": "markdown",
   "id": "c6911271-be29-40cf-b834-e95605fd4995",
   "metadata": {},
   "source": [
    "Test"
   ]
  },
  {
   "cell_type": "markdown",
   "id": "ec4be8c5-c465-4af0-8b02-93870de23be5",
   "metadata": {},
   "source": [
    "True or False: Indentation in Python is for readability only.\n",
    "False\n",
    "1) Insert the missing part of the code below to output \"Hello World\".\n",
    "print('Hello, World!')\n",
    "2) Complete the code block, print \"YES\" if 5 is larger than 2.\n",
    "Hint: remember the indentation.\n",
    "if 5 > 2\n",
    "    print('YES')"
   ]
  },
  {
   "cell_type": "markdown",
   "id": "a78d1fa6-d4cb-4836-8608-fe94eb4cd832",
   "metadata": {},
   "source": [
    "Python comment"
   ]
  },
  {
   "cell_type": "code",
   "execution_count": null,
   "id": "5e24e02c-b013-4265-b459-1f61ba1eb6aa",
   "metadata": {},
   "outputs": [],
   "source": [
    "#This is a comment\n",
    "print(\"Hello, World!\")"
   ]
  },
  {
   "cell_type": "code",
   "execution_count": null,
   "id": "d31cd81d-2515-4a98-ab20-263569933a9d",
   "metadata": {},
   "outputs": [],
   "source": [
    "print(\"Hello, World!\") #This is a comment"
   ]
  },
  {
   "cell_type": "code",
   "execution_count": null,
   "id": "4eff9421-a491-4213-8fe3-3ab3262f5420",
   "metadata": {},
   "outputs": [],
   "source": [
    "#print(\"Hello, World!\")\n",
    "print(\"Cheers, Mate!\")"
   ]
  },
  {
   "cell_type": "code",
   "execution_count": null,
   "id": "cbdcc396-0f1d-4b21-ad48-052a751baab0",
   "metadata": {},
   "outputs": [],
   "source": [
    "#This is a comment\n",
    "#written in\n",
    "#more than just one line\n",
    "print(\"Hello, World!\")"
   ]
  },
  {
   "cell_type": "code",
   "execution_count": null,
   "id": "bec62cef-1ebb-4fe4-a372-829a1491102e",
   "metadata": {},
   "outputs": [],
   "source": [
    "\"\"\"\n",
    "This is a comment\n",
    "written in\n",
    "more than just one line\n",
    "\"\"\"\n",
    "print(\"Hello, World!\")"
   ]
  },
  {
   "cell_type": "markdown",
   "id": "15323513-3cbf-4245-94ba-32cfede0ec8a",
   "metadata": {},
   "source": [
    "Test"
   ]
  },
  {
   "cell_type": "markdown",
   "id": "c406a250-69bf-479f-a48c-29a265b738f6",
   "metadata": {},
   "source": [
    "1)Which character is used to define a Python comment:\n",
    "answer: #\n",
    "\n",
    "2)Comments in Python are written with a special character, which one?\n",
    "#This is a comment\n",
    "\n",
    "3)Use a multiline string to make the a multiline comment:\n",
    "'''\n",
    "This is a comment\n",
    "written in \n",
    "more than just one line\n",
    "'''\n"
   ]
  },
  {
   "cell_type": "raw",
   "id": "81ac240e-da89-4511-abac-fba815f40f13",
   "metadata": {},
   "source": [
    "Pythin variables"
   ]
  },
  {
   "cell_type": "code",
   "execution_count": 3,
   "id": "ea8bb2f7-ccd9-40b6-bc36-3e1c78a481c9",
   "metadata": {},
   "outputs": [
    {
     "name": "stdout",
     "output_type": "stream",
     "text": [
      "5\n",
      "John\n"
     ]
    }
   ],
   "source": [
    "#Creating variables\n",
    "x = 5\n",
    "y = \"John\"\n",
    "print(x)\n",
    "print(y)"
   ]
  },
  {
   "cell_type": "code",
   "execution_count": 1,
   "id": "bc3f3469-3c05-41ab-8a18-ab0d9a928182",
   "metadata": {},
   "outputs": [
    {
     "name": "stdout",
     "output_type": "stream",
     "text": [
      "Sally\n"
     ]
    }
   ],
   "source": [
    "#Creating variables\n",
    "x = 4       # x is of type int\n",
    "x = \"Sally\" # x is now of type str\n",
    "print(x)"
   ]
  },
  {
   "cell_type": "code",
   "execution_count": null,
   "id": "766aa99f-6f33-4aa2-8e56-92e30b2f8494",
   "metadata": {},
   "outputs": [],
   "source": [
    "#Casting\n",
    "x = str(3)    # x will be '3'\n",
    "y = int(3)    # y will be 3\n",
    "z = float(3)  # z will be 3.0"
   ]
  },
  {
   "cell_type": "code",
   "execution_count": null,
   "id": "cca51c47-4f46-46f2-a86c-32ca5bfee101",
   "metadata": {},
   "outputs": [],
   "source": [
    "#Get the type\n",
    "x = 5\n",
    "y = \"John\"\n",
    "print(type(x))\n",
    "print(type(y))"
   ]
  },
  {
   "cell_type": "code",
   "execution_count": null,
   "id": "f0d9dc4e-476f-4e3a-9fcb-ddddc9c2e6a4",
   "metadata": {},
   "outputs": [],
   "source": [
    "#Single or Double Quotes?\n",
    "x = \"John\"\n",
    "# is the same as\n",
    "x = 'John'"
   ]
  },
  {
   "cell_type": "code",
   "execution_count": null,
   "id": "307f5591-8361-4e88-8a36-4b05f6734249",
   "metadata": {},
   "outputs": [],
   "source": [
    "#Case-Sensitive\n",
    "a = 4\n",
    "A = \"Sally\"\n",
    "#A will not overwrite a"
   ]
  },
  {
   "cell_type": "markdown",
   "id": "0c247b9a-460e-4734-8ff2-3ba7f3495cef",
   "metadata": {},
   "source": [
    "Variable Names"
   ]
  },
  {
   "cell_type": "code",
   "execution_count": null,
   "id": "c5bf4af4-0040-4cca-ae2c-6cd3eff8a745",
   "metadata": {},
   "outputs": [],
   "source": [
    "myvar = \"John\"\n",
    "my_var = \"John\"\n",
    "_my_var = \"John\"\n",
    "myVar = \"John\"\n",
    "MYVAR = \"John\"\n",
    "myvar2 = \"John\""
   ]
  },
  {
   "cell_type": "code",
   "execution_count": null,
   "id": "d0a06cde-cef2-4ff7-80d7-087b7c0b826e",
   "metadata": {},
   "outputs": [],
   "source": [
    "#Illegal variable names:\n",
    "2myvar = \"John\"\n",
    "my-var = \"John\"\n",
    "my var = \"John\""
   ]
  },
  {
   "cell_type": "code",
   "execution_count": null,
   "id": "93c6a8b5-738d-4aaf-bdab-7d3426b3ca77",
   "metadata": {},
   "outputs": [],
   "source": [
    "#Multi Words Variable Names\n",
    "#Camel Case\n",
    "myVariableName = \"John\"\n",
    "#Pascal Case\n",
    "MyVariableName = \"John\"\n",
    "#Snake Case\n",
    "my_variable_name = \"John\""
   ]
  },
  {
   "cell_type": "markdown",
   "id": "44a47daa-4dbd-41db-b0c0-019cf0f72aab",
   "metadata": {},
   "source": [
    "Test"
   ]
  },
  {
   "cell_type": "markdown",
   "id": "21668c04-f91b-418e-b766-afb79a743092",
   "metadata": {},
   "source": [
    "1) Which is NOT a legal variable name?\n",
    "my-var = 20\n",
    "\n",
    "2) Create a variable named carname and assign the value Volvo to it.\n",
    "carname = 'Volvo'\n",
    "\n",
    "3) Create a variable named x and assign the value 50 to it.\n",
    "x = 50"
   ]
  },
  {
   "cell_type": "markdown",
   "id": "40b98b5a-6b4b-4b3e-9864-97e4252d9670",
   "metadata": {},
   "source": [
    "Assign Multiple Values"
   ]
  },
  {
   "cell_type": "code",
   "execution_count": null,
   "id": "d6689e82-1c69-4944-bcb7-9bd6c6d8aa5c",
   "metadata": {},
   "outputs": [],
   "source": [
    "#Many Values to Multiple Variables\n",
    "x, y, z = \"Orange\", \"Banana\", \"Cherry\"\n",
    "print(x)\n",
    "print(y)\n",
    "print(z)"
   ]
  },
  {
   "cell_type": "code",
   "execution_count": null,
   "id": "7a512000-85e3-423a-942a-8cca6945a9d1",
   "metadata": {},
   "outputs": [],
   "source": [
    "#One Value to Multiple Variables\n",
    "x = y = z = \"Orange\"\n",
    "print(x)\n",
    "print(y)\n",
    "print(z)"
   ]
  },
  {
   "cell_type": "code",
   "execution_count": null,
   "id": "fc76ef77-cd97-49a1-abbe-2a42aad3f381",
   "metadata": {},
   "outputs": [],
   "source": [
    "Unpack a Collection\n",
    "fruits = [\"apple\", \"banana\", \"cherry\"]\n",
    "x, y, z = fruits\n",
    "print(x)\n",
    "print(y)\n",
    "print(z)"
   ]
  },
  {
   "cell_type": "markdown",
   "id": "bbaa1377-6ee0-41c0-81a1-e737c369c45a",
   "metadata": {},
   "source": [
    "Test"
   ]
  },
  {
   "cell_type": "markdown",
   "id": "74f1d31b-05df-4222-93c8-4017d83d3b2c",
   "metadata": {},
   "source": [
    "1) What is a correct syntax to add the value 'Hello World', to 3 variables in one statement?\n",
    "x = y = z = 'Hello World'\n",
    "\n",
    "2) Insert the correct syntax to assign values to multiple variables in one line:\n",
    "x, y, z = \"Orange\", \"Banana\", \"Cherry\"\n",
    "\n",
    "3) Consider the following code:\n",
    "\n",
    "fruits = ['apple', 'banana', 'cherry']\n",
    "a, b, c = fruits\n",
    "print(a)\n",
    "\n",
    "What will be the result of a?\n",
    "apple"
   ]
  },
  {
   "cell_type": "markdown",
   "id": "96723cb1-fd6e-41d0-be13-aa9490523e34",
   "metadata": {},
   "source": [
    "Output Variables"
   ]
  },
  {
   "cell_type": "code",
   "execution_count": null,
   "id": "9e07759e-9cfa-4049-8bf9-377014eaedc2",
   "metadata": {},
   "outputs": [],
   "source": [
    "x = \"Python is awesome\"\n",
    "print(x)"
   ]
  },
  {
   "cell_type": "code",
   "execution_count": null,
   "id": "7f76252a-e871-4726-a09f-fc9d9444e80c",
   "metadata": {},
   "outputs": [],
   "source": [
    "x = \"Python\"\n",
    "y = \"is\"\n",
    "z = \"awesome\"\n",
    "print(x, y, z)"
   ]
  },
  {
   "cell_type": "code",
   "execution_count": 5,
   "id": "92db290f-0886-44ae-945e-19ba72e2b13d",
   "metadata": {},
   "outputs": [
    {
     "name": "stdout",
     "output_type": "stream",
     "text": [
      "Python is awesome\n"
     ]
    }
   ],
   "source": [
    "x = \"Python \"\n",
    "y = \"is \"\n",
    "z = \"awesome\"\n",
    "print(x + y + z)"
   ]
  },
  {
   "cell_type": "code",
   "execution_count": null,
   "id": "95009b3b-f47c-4115-9ab4-4b5357345993",
   "metadata": {},
   "outputs": [],
   "source": [
    "x = 5\n",
    "y = 10\n",
    "print(x + y)"
   ]
  },
  {
   "cell_type": "code",
   "execution_count": 7,
   "id": "4836791e-4067-488d-b8b0-dfa956f1ebef",
   "metadata": {},
   "outputs": [
    {
     "ename": "TypeError",
     "evalue": "unsupported operand type(s) for +: 'int' and 'str'",
     "output_type": "error",
     "traceback": [
      "\u001b[0;31m---------------------------------------------------------------------------\u001b[0m",
      "\u001b[0;31mTypeError\u001b[0m                                 Traceback (most recent call last)",
      "Cell \u001b[0;32mIn[7], line 3\u001b[0m\n\u001b[1;32m      1\u001b[0m x \u001b[38;5;241m=\u001b[39m \u001b[38;5;241m5\u001b[39m\n\u001b[1;32m      2\u001b[0m y \u001b[38;5;241m=\u001b[39m \u001b[38;5;124m\"\u001b[39m\u001b[38;5;124mJohn\u001b[39m\u001b[38;5;124m\"\u001b[39m\n\u001b[0;32m----> 3\u001b[0m \u001b[38;5;28mprint\u001b[39m(x \u001b[38;5;241m+\u001b[39m y)\n",
      "\u001b[0;31mTypeError\u001b[0m: unsupported operand type(s) for +: 'int' and 'str'"
     ]
    }
   ],
   "source": [
    "#Incorrect\n",
    "x = 5\n",
    "y = \"John\"\n",
    "print(x + y)"
   ]
  },
  {
   "cell_type": "code",
   "execution_count": null,
   "id": "86c76666-25b5-41c8-933d-5292fe9918ca",
   "metadata": {},
   "outputs": [],
   "source": [
    "x = 5\n",
    "y = \"John\"\n",
    "print(x, y)"
   ]
  },
  {
   "cell_type": "markdown",
   "id": "f61fb241-53d4-4695-ac55-f232eb1d07fc",
   "metadata": {},
   "source": [
    "Test"
   ]
  },
  {
   "cell_type": "markdown",
   "id": "c34b987b-c158-40c1-9d10-c67b1b02fcbb",
   "metadata": {},
   "source": [
    "1) Consider the following code:\n",
    "print('Hello', 'World')\n",
    "What will be the printed result?\n",
    "\n",
    "Hello World\n",
    "\n",
    "2) Consider the following code:\n",
    "\n",
    "a = 'Hello'\n",
    "b = 'World'\n",
    "print(a + b)\n",
    "\n",
    "What will be the printed result?\n",
    "HelloWorld\n",
    "\n",
    "3) Consider the following code:\n",
    "\n",
    "a = 4\n",
    "b = 5\n",
    "print(a + b)\n",
    "\n",
    "What will be the printed result?\n",
    "9"
   ]
  },
  {
   "cell_type": "markdown",
   "id": "ab183490-f078-406f-a6d9-74473f7d9ec6",
   "metadata": {},
   "source": [
    "Global Variables"
   ]
  },
  {
   "cell_type": "code",
   "execution_count": null,
   "id": "ab15e526-429e-44b5-b7a7-7478208581d7",
   "metadata": {},
   "outputs": [],
   "source": [
    "x = \"awesome\"\n",
    "\n",
    "def myfunc():\n",
    "  print(\"Python is \" + x)\n",
    "\n",
    "myfunc()"
   ]
  },
  {
   "cell_type": "code",
   "execution_count": null,
   "id": "f4c3cec4-966f-477a-95c9-6a320f6fd477",
   "metadata": {},
   "outputs": [],
   "source": [
    "x = \"awesome\"\n",
    "\n",
    "def myfunc():\n",
    "  x = \"fantastic\"\n",
    "  print(\"Python is \" + x)\n",
    "\n",
    "myfunc()\n",
    "\n",
    "print(\"Python is \" + x)"
   ]
  },
  {
   "cell_type": "code",
   "execution_count": null,
   "id": "1e05e721-c815-4fd9-932a-0aca22060b9f",
   "metadata": {},
   "outputs": [],
   "source": [
    "#The global Keyword\n",
    "def myfunc():\n",
    "  global x\n",
    "  x = \"fantastic\"\n",
    "\n",
    "myfunc()\n",
    "\n",
    "print(\"Python is \" + x)"
   ]
  },
  {
   "cell_type": "code",
   "execution_count": 9,
   "id": "a9d2c3f2-6296-443f-a949-807c4a2f097c",
   "metadata": {},
   "outputs": [
    {
     "name": "stdout",
     "output_type": "stream",
     "text": [
      "Python is fantastic\n"
     ]
    }
   ],
   "source": [
    "x = \"awesome\"\n",
    "\n",
    "def myfunc():\n",
    "  global x\n",
    "  x = \"fantastic\"\n",
    "\n",
    "myfunc()\n",
    "\n",
    "print(\"Python is \" + x)"
   ]
  },
  {
   "cell_type": "markdown",
   "id": "c15ba92b-97ee-44e9-bc5f-fe1ef15e459c",
   "metadata": {},
   "source": [
    "Test"
   ]
  },
  {
   "cell_type": "markdown",
   "id": "3a631691-9074-4e4a-8cdd-abf941197c6a",
   "metadata": {},
   "source": [
    "1) Consider the following code:\n",
    "\n",
    "x = 'awesome'\n",
    "def myfunc():\n",
    "  x = 'fantastic'\n",
    "myfunc()\n",
    "print('Python is ' + x)\n",
    "\n",
    "What will be the printed result?\n",
    "Python is awesome\n",
    "\n",
    "2) Insert the correct keyword to make the variable x belong to the global scope.\n",
    "def myfunc():\n",
    "global x\n",
    "  x = \"fantastic\"\n",
    "\n",
    "3) Consider the following code:\n",
    "x = 'awesome'\n",
    "def myfunc():\n",
    "  global x\n",
    "  x = 'fantastic'\n",
    "myfunc()\n",
    "print('Python is ' + x)\n",
    "What will be the printed result?\n",
    "\n",
    "Python is fantastic"
   ]
  },
  {
   "cell_type": "markdown",
   "id": "cee1f0c2-79a6-45d7-b8b9-1b193239df87",
   "metadata": {},
   "source": [
    "Python Data Types"
   ]
  },
  {
   "cell_type": "markdown",
   "id": "f9ee2d4b-724b-441e-831b-4b7a2a7eb60f",
   "metadata": {},
   "source": [
    "Python has the following data types built-in by default, in these categories:\n",
    "\n",
    "Text Type:\tstr\n",
    "Numeric Types:\tint, float, complex\n",
    "Sequence Types:\tlist, tuple, range\n",
    "Mapping Type:\tdict\n",
    "Set Types:\tset, frozenset\n",
    "Boolean Type:\tbool\n",
    "Binary Types:\tbytes, bytearray, memoryview\n",
    "None Type:\tNoneType"
   ]
  },
  {
   "cell_type": "code",
   "execution_count": null,
   "id": "38fc0307-a742-408e-8aa3-b806154bd190",
   "metadata": {},
   "outputs": [],
   "source": [
    "x = 5\n",
    "print(type(x))"
   ]
  },
  {
   "cell_type": "code",
   "execution_count": null,
   "id": "c8fbfed9-4634-43f8-af0e-72e64750f538",
   "metadata": {},
   "outputs": [],
   "source": [
    "#Setting the Data Type\n",
    "x = 'Hello, World!' #str\n",
    "x = 20 #int\n",
    "x = 20.5 #float\n",
    "x = 1j #complex\n",
    "x = ['apple', 'banana', 'cherry'] #list\n",
    "x = ('apple', 'banana', 'cherry') #tuple\n",
    "x = range(6) #range\n",
    "x = ('name' : 'John', 'age' : 36) #dict\n",
    "x = {'apple', 'banana', 'cherry'} #set\n",
    "x = frozenset(('apple', 'banana', 'cherry')) #frozenset\n",
    "x = True #bool\n",
    "x = b'Hello' #bytes\n",
    "x = bytearray(5) #bytearray\n",
    "x = memoryview(bytes(5)) #memoryview\n",
    "x = None #NoneType"
   ]
  },
  {
   "cell_type": "code",
   "execution_count": null,
   "id": "21fd7ec5-6b67-406b-95ac-fe4c1b081ef3",
   "metadata": {},
   "outputs": [],
   "source": [
    "#Setting the Specific Data Type\n",
    "x = str('Hello, World') #str\n",
    "x = int(20)\t#int\t\n",
    "x = float(20.5)\t#float\t\n",
    "x = complex(1j)\t#complex\t\n",
    "x = list((\"apple\", \"banana\", \"cherry\"))\t#list\t\n",
    "x = tuple((\"apple\", \"banana\", \"cherry\")) #tuple\t\n",
    "x = range(6) #range\t\n",
    "x = dict(name=\"John\", age=36) #dict\t\n",
    "x = set((\"apple\", \"banana\", \"cherry\")) #set\t\n",
    "x = frozenset((\"apple\", \"banana\", \"cherry\")) #frozenset\t\n",
    "x = bool(5)\t#bool\t\n",
    "x = bytes(5) #bytes\t\n",
    "x = bytearray(5) #bytearray\t\n",
    "x = memoryview(bytes(5)) #memoryview"
   ]
  },
  {
   "cell_type": "markdown",
   "id": "6d5b45c3-b2e4-45cf-8136-d4ff6dcf5e5b",
   "metadata": {},
   "source": [
    "Test"
   ]
  },
  {
   "cell_type": "markdown",
   "id": "8716145a-d4a2-4bb0-a0d8-042e34ca86d1",
   "metadata": {},
   "source": [
    "1) If x = 5, what is a correct syntax for printing the data type of the variable x?\n",
    "print(type(x))\n",
    "\n",
    "2) The following code example would print the data type of x, what data type would that be?\n",
    "x = 5\n",
    "print(type(x))\n",
    "ans: int\n",
    "\n",
    "3) The following code example would print the data type of x, what data type would that be?\n",
    "x = \"Hello World\"\n",
    "print(type(x))\n",
    "ans: str\n",
    "\n",
    "4) The following code example would print the data type of x, what data type would that be?\n",
    "\n",
    "x = 20.5\n",
    "print(type(x))\n",
    "ans: float\n",
    "\n",
    "5) The following code example would print the data type of x, what data type would that be?\n",
    "\n",
    "x = [\"apple\", \"banana\", \"cherry\"]\n",
    "print(type(x))\n",
    "ans: list\n",
    "\n",
    "6) The following code example would print the data type of x, what data type would that be?\n",
    "\n",
    "x = (\"apple\", \"banana\", \"cherry\")\n",
    "print(type(x))\n",
    "ans: tuple\n",
    "\n",
    "7) The following code example would print the data type of x, what data type would that be?\n",
    "\n",
    "x = {\"name\" : \"John\", \"age\" : 36}\n",
    "print(type(x))\n",
    "ans: dict\n",
    "\n",
    "8) The following code example would print the data type of x, what data type would that be?\n",
    "\n",
    "x = True\n",
    "print(type(x))\n",
    "ans: bool"
   ]
  },
  {
   "cell_type": "markdown",
   "id": "46ff7178-5a65-429e-ae65-7bcbd310effb",
   "metadata": {},
   "source": [
    "Python Numbers"
   ]
  },
  {
   "cell_type": "code",
   "execution_count": null,
   "id": "69625077-c5d5-4191-8dd4-eceb7d89d672",
   "metadata": {},
   "outputs": [],
   "source": [
    "x = 1    # int\n",
    "y = 2.8  # float\n",
    "z = 1j   # complex\n",
    "print(type(x))\n",
    "print(type(y))\n",
    "print(type(z))"
   ]
  },
  {
   "cell_type": "code",
   "execution_count": null,
   "id": "5ad3f07b-1b65-4c7a-be8c-6f601217b39a",
   "metadata": {},
   "outputs": [],
   "source": [
    "#int\n",
    "x = 1\n",
    "y = 35656222554887711\n",
    "z = -3255522\n",
    "\n",
    "print(type(x))\n",
    "print(type(y))\n",
    "print(type(z))"
   ]
  },
  {
   "cell_type": "code",
   "execution_count": null,
   "id": "92fbc27d-e2a7-494b-9867-deb77ca96f44",
   "metadata": {},
   "outputs": [],
   "source": [
    "#float\n",
    "x = 1.10\n",
    "y = 1.0\n",
    "z = -35.59\n",
    "\n",
    "print(type(x))\n",
    "print(type(y))\n",
    "print(type(z))"
   ]
  },
  {
   "cell_type": "code",
   "execution_count": null,
   "id": "713e6952-641a-4d90-a9e4-6fb526223668",
   "metadata": {},
   "outputs": [],
   "source": [
    "#float with e\n",
    "x = 35e3\n",
    "y = 12E4\n",
    "z = -87.7e100\n",
    "\n",
    "print(type(x))\n",
    "print(type(y))\n",
    "print(type(z))"
   ]
  },
  {
   "cell_type": "code",
   "execution_count": null,
   "id": "3d2169c5-c4fb-4cda-b1b9-fa5f79cf0b0f",
   "metadata": {},
   "outputs": [],
   "source": [
    "#complex\n",
    "x = 3+5j\n",
    "y = 5j\n",
    "z = -5j\n",
    "\n",
    "print(type(x))\n",
    "print(type(y))\n",
    "print(type(z))"
   ]
  },
  {
   "cell_type": "code",
   "execution_count": 11,
   "id": "945122fc-5573-45d3-b016-8e421fba327b",
   "metadata": {},
   "outputs": [
    {
     "name": "stdout",
     "output_type": "stream",
     "text": [
      "1.0\n",
      "2\n",
      "(1+0j)\n",
      "<class 'float'>\n",
      "<class 'int'>\n",
      "<class 'complex'>\n"
     ]
    }
   ],
   "source": [
    "#Type conversion\n",
    "#you can convert int and float to complex, but cannot complex to both of them\n",
    "x = 1    # int\n",
    "y = 2.8  # float\n",
    "z = 1j   # complex\n",
    "\n",
    "#convert from int to float:\n",
    "a = float(x)\n",
    "\n",
    "#convert from float to int:\n",
    "b = int(y)\n",
    "\n",
    "#convert from int to complex:\n",
    "c = complex(x)\n",
    "\n",
    "print(a)\n",
    "print(b)\n",
    "print(c)\n",
    "\n",
    "print(type(a))\n",
    "print(type(b))\n",
    "print(type(c))"
   ]
  },
  {
   "cell_type": "code",
   "execution_count": null,
   "id": "745f2610-0e38-4c9e-9989-379ae97c1d57",
   "metadata": {},
   "outputs": [],
   "source": [
    "#Random number\n",
    "import random\n",
    "\n",
    "print(random.randrange(1, 10))"
   ]
  },
  {
   "cell_type": "markdown",
   "id": "97775168-e197-415e-af9b-3eb9c4393623",
   "metadata": {},
   "source": [
    "Test"
   ]
  },
  {
   "cell_type": "markdown",
   "id": "443e243c-be8f-4139-b31c-b9e685315747",
   "metadata": {},
   "source": [
    "1) Which is NOT a legal numeric data type in Python:\n",
    "long\n",
    "\n",
    "2) Insert the correct syntax to convert x into a floating point number.\n",
    "x = 5\n",
    "x = float(x)\n",
    "\n",
    "3) Insert the correct syntax to convert x into a integer.\n",
    "x = 5.5\n",
    "x = int(x)\n",
    "\n",
    "4) Insert the correct syntax to convert x into a complex number.\n",
    "x = 5\n",
    "x = complex(x)"
   ]
  },
  {
   "cell_type": "markdown",
   "id": "6bf4e053-866c-457b-88ae-4a84647d4016",
   "metadata": {},
   "source": [
    "Python casting"
   ]
  },
  {
   "cell_type": "code",
   "execution_count": null,
   "id": "e7f21eda-1195-4774-b117-66974f659f13",
   "metadata": {},
   "outputs": [],
   "source": [
    "x = int(1)   # x will be 1\n",
    "y = int(2.8) # y will be 2\n",
    "z = int(\"3\") # z will be 3"
   ]
  },
  {
   "cell_type": "code",
   "execution_count": null,
   "id": "036fe79e-6be7-42f7-adad-6a934737c8f2",
   "metadata": {},
   "outputs": [],
   "source": [
    "x = float(1)     # x will be 1.0\n",
    "y = float(2.8)   # y will be 2.8\n",
    "z = float(\"3\")   # z will be 3.0\n",
    "w = float(\"4.2\") # w will be 4.2"
   ]
  },
  {
   "cell_type": "code",
   "execution_count": null,
   "id": "ce564936-5660-4cdb-9ae4-3cede5cdae3d",
   "metadata": {},
   "outputs": [],
   "source": [
    "x = str(\"s1\") # x will be 's1'\n",
    "y = str(2)    # y will be '2'\n",
    "z = str(3.0)  # z will be '3.0'"
   ]
  },
  {
   "cell_type": "markdown",
   "id": "2f1f9c60-e2f3-4158-a8fd-974488e3c605",
   "metadata": {},
   "source": [
    "Test"
   ]
  },
  {
   "cell_type": "markdown",
   "id": "31f6c7e3-afd0-4ee4-b3e9-9359dfe0e31d",
   "metadata": {},
   "source": [
    "1) What will be the result of the following code:\n",
    "print(int(35.88))\n",
    "ans: 35\n",
    "\n",
    "2) What will be the result of the following code:\n",
    "print(float(35))\n",
    "\n",
    "ans: 35.0\n",
    "\n",
    "3) What will be the result of the following code:\n",
    "print(str(35.82))\n",
    "ans: 35.82"
   ]
  },
  {
   "cell_type": "markdown",
   "id": "681a8d2f-ea6b-4d05-be47-28da2af6e8e8",
   "metadata": {},
   "source": [
    "Python string"
   ]
  },
  {
   "cell_type": "code",
   "execution_count": null,
   "id": "1674756c-9371-4a11-80ac-6836bf00ca8f",
   "metadata": {},
   "outputs": [],
   "source": [
    "print(\"Hello\")\n",
    "print('Hello')"
   ]
  },
  {
   "cell_type": "code",
   "execution_count": null,
   "id": "d0c76ee7-0e22-4c2f-9b6d-d1c343813338",
   "metadata": {},
   "outputs": [],
   "source": [
    "#Quotes Inside Quotes\n",
    "print(\"It's alright\")\n",
    "print(\"He is called 'Johnny'\")\n",
    "print('He is called \"Johnny\"')"
   ]
  },
  {
   "cell_type": "code",
   "execution_count": null,
   "id": "eb9f35b1-3ddf-4ab8-b76f-5fa588701901",
   "metadata": {},
   "outputs": [],
   "source": [
    "#Assign String to a Variable\n",
    "a = \"Hello\"\n",
    "print(a)"
   ]
  },
  {
   "cell_type": "code",
   "execution_count": null,
   "id": "325f1e88-8549-4f93-9840-fec2d113998d",
   "metadata": {},
   "outputs": [],
   "source": [
    "#Multiline Strings\n",
    "a = \"\"\"Lorem ipsum dolor sit amet,\n",
    "consectetur adipiscing elit,\n",
    "sed do eiusmod tempor incididunt\n",
    "ut labore et dolore magna aliqua.\"\"\"\n",
    "print(a)"
   ]
  },
  {
   "cell_type": "code",
   "execution_count": null,
   "id": "ddff54ec-379e-4927-8d22-3c08b6173b23",
   "metadata": {},
   "outputs": [],
   "source": [
    "a = '''Lorem ipsum dolor sit amet,\n",
    "consectetur adipiscing elit,\n",
    "sed do eiusmod tempor incididunt\n",
    "ut labore et dolore magna aliqua.'''\n",
    "print(a)"
   ]
  },
  {
   "cell_type": "code",
   "execution_count": null,
   "id": "6a69a066-d361-4fa9-96c6-8153adebf073",
   "metadata": {},
   "outputs": [],
   "source": [
    "#Strings are Arrays\n",
    "a = \"Hello, World!\"\n",
    "print(a[1])"
   ]
  },
  {
   "cell_type": "code",
   "execution_count": null,
   "id": "d17296af-4280-45ca-b943-c478a3777d0d",
   "metadata": {},
   "outputs": [],
   "source": [
    "#Looping Through a String\n",
    "for x in \"banana\":\n",
    "  print(x)"
   ]
  },
  {
   "cell_type": "code",
   "execution_count": null,
   "id": "2b798657-e182-40b2-89d7-d529864b4478",
   "metadata": {},
   "outputs": [],
   "source": [
    "#String Length\n",
    "a = \"Hello, World!\"\n",
    "print(len(a))"
   ]
  },
  {
   "cell_type": "code",
   "execution_count": null,
   "id": "2addfe32-8f0c-4938-81d5-a70312210e9d",
   "metadata": {},
   "outputs": [],
   "source": [
    "#Check String\n",
    "txt = \"The best things in life are free!\"\n",
    "print(\"free\" in txt)"
   ]
  },
  {
   "cell_type": "code",
   "execution_count": null,
   "id": "6809d52c-c3fa-49c5-a1e0-68817778352d",
   "metadata": {},
   "outputs": [],
   "source": [
    "txt = \"The best things in life are free!\"\n",
    "if \"free\" in txt:\n",
    "  print(\"Yes, 'free' is present.\")"
   ]
  },
  {
   "cell_type": "code",
   "execution_count": null,
   "id": "0d0b3293-4cee-499f-9199-a68e4b0f1766",
   "metadata": {},
   "outputs": [],
   "source": [
    "#Check if NOT\n",
    "txt = \"The best things in life are free!\"\n",
    "print(\"expensive\" not in txt)"
   ]
  },
  {
   "cell_type": "code",
   "execution_count": null,
   "id": "1e56371d-b440-401f-8af3-6672cfbc254e",
   "metadata": {},
   "outputs": [],
   "source": [
    "txt = \"The best things in life are free!\"\n",
    "if \"expensive\" not in txt:\n",
    "  print(\"No, 'expensive' is NOT present.\")"
   ]
  },
  {
   "cell_type": "markdown",
   "id": "2f817b24-0106-45ed-b356-c0975fbd583c",
   "metadata": {},
   "source": [
    "Test"
   ]
  },
  {
   "cell_type": "markdown",
   "id": "54461311-a822-42c0-8f7e-5c2afa33e125",
   "metadata": {},
   "source": [
    "1) What will be the result of the following code:\n",
    "\n",
    "x = 'Welcome'\n",
    "print(x[3])\n",
    "ans: c\n",
    "\n",
    "2) Use the len function to print the length of the string.\n",
    "\n",
    "x = \"Hello World\"\n",
    "print(len(x))\n",
    "\n",
    "3) Get the first character of the string txt.\n",
    "\n",
    "txt = \"Hello World\"\n",
    "x = txt[0]\n",
    "\n",
    "4) Insert the correct keyword to check if the word 'free' is present in the text:\n",
    "\n",
    "txt = 'The best things in life are free!'\n",
    "if 'free'  txt:\n",
    "  print('Yes, free is present in the text.')"
   ]
  },
  {
   "cell_type": "markdown",
   "id": "5e1e2489-dab9-40c8-98cc-3984c1b9fa3b",
   "metadata": {},
   "source": [
    "Slicing Strings"
   ]
  },
  {
   "cell_type": "code",
   "execution_count": 13,
   "id": "530288fa-49c4-49c4-87c9-17a6470c737c",
   "metadata": {},
   "outputs": [
    {
     "name": "stdout",
     "output_type": "stream",
     "text": [
      "llo\n"
     ]
    }
   ],
   "source": [
    "b = \"Hello, World!\"\n",
    "print(b[2:5])"
   ]
  },
  {
   "cell_type": "code",
   "execution_count": null,
   "id": "6f6c60c7-bb57-4f56-b28c-f2440b7e256c",
   "metadata": {},
   "outputs": [],
   "source": [
    "#Slice From the Start\n",
    "b = \"Hello, World!\"\n",
    "print(b[:5])"
   ]
  },
  {
   "cell_type": "code",
   "execution_count": null,
   "id": "4d62007e-a2fe-4ce5-998e-677949bd5ca5",
   "metadata": {},
   "outputs": [],
   "source": [
    "#Slice To the End\n",
    "b = \"Hello, World!\"\n",
    "print(b[2:])"
   ]
  },
  {
   "cell_type": "code",
   "execution_count": null,
   "id": "0d88217e-830e-4005-8154-d11518f4f9b7",
   "metadata": {},
   "outputs": [],
   "source": [
    "#Negative Indexing\n",
    "b = \"Hello, World!\"\n",
    "print(b[-5:-2]"
   ]
  },
  {
   "cell_type": "markdown",
   "id": "8ebfc8aa-a031-4ff4-ab0f-a6dcbc0833e9",
   "metadata": {},
   "source": [
    "Test"
   ]
  },
  {
   "cell_type": "markdown",
   "id": "bea7ed47-9648-4ea6-a4d2-57ed8afd1952",
   "metadata": {},
   "source": [
    "1) What will be the result of the following code:\n",
    "\n",
    "x = 'Welcome'\n",
    "print(x[3:5])\n",
    "ans: co\n",
    "\n",
    "2) Get the characters from index 2 to index 4 (llo).\n",
    "\n",
    "txt = \"Hello World\"\n",
    "x = \n",
    "txt[2:5]\n",
    "\n",
    "3) What will be the result of the following code:\n",
    "\n",
    "x = 'Welcome'\n",
    "print(x[3:])\n",
    "ans: come\n"
   ]
  },
  {
   "cell_type": "markdown",
   "id": "899fea78-28ea-4b88-af01-4ca72973e78a",
   "metadata": {},
   "source": [
    "Modify String"
   ]
  },
  {
   "cell_type": "code",
   "execution_count": null,
   "id": "081a0ad0-91d5-4117-8b12-7a87641d998a",
   "metadata": {},
   "outputs": [],
   "source": [
    "#Upper Case\n",
    "a = \"Hello, World!\"\n",
    "print(a.upper())"
   ]
  },
  {
   "cell_type": "code",
   "execution_count": null,
   "id": "43c555a0-6853-4be0-b078-2cf9f156f893",
   "metadata": {},
   "outputs": [],
   "source": [
    "#Lower Case\n",
    "a = \"Hello, World!\"\n",
    "print(a.lower())"
   ]
  },
  {
   "cell_type": "code",
   "execution_count": null,
   "id": "23abab5a-3bdb-4143-b56a-9cea4fc2dab8",
   "metadata": {},
   "outputs": [],
   "source": [
    "#Remove Whitespace\n",
    "a = \" Hello, World! \"\n",
    "print(a.strip()) # returns \"Hello, World!\""
   ]
  },
  {
   "cell_type": "code",
   "execution_count": 15,
   "id": "877c03b1-1353-4db3-aeb7-8f8d35767c55",
   "metadata": {},
   "outputs": [
    {
     "name": "stdout",
     "output_type": "stream",
     "text": [
      "Jello, World!\n"
     ]
    }
   ],
   "source": [
    "#Replace String\n",
    "a = \"Hello, World!\"\n",
    "print(a.replace(\"H\", \"J\"))"
   ]
  },
  {
   "cell_type": "code",
   "execution_count": null,
   "id": "ffacbeb0-4b3e-4527-987b-24bb987230dd",
   "metadata": {},
   "outputs": [],
   "source": [
    "#Split String\n",
    "a = \"Hello, World!\"\n",
    "print(a.split(\",\")) # returns ['Hello', ' World!']"
   ]
  },
  {
   "cell_type": "markdown",
   "id": "f1408e94-471a-42aa-ac9d-898d1041ebf4",
   "metadata": {},
   "source": [
    "Test"
   ]
  },
  {
   "cell_type": "markdown",
   "id": "0ffac653-e693-45bb-97e0-ed08c4953fb4",
   "metadata": {},
   "source": [
    "1) What is a correct syntax to print a string in upper case letters?\n",
    "\n",
    "ans: 'Welcome'.upper()\n",
    "\n",
    "2) Return the string without any whitespace at the beginning or the end.\n",
    "\n",
    "txt = \" Hello World \"\n",
    "x = \n",
    "txt.strip()\n",
    "\n",
    "3) Convert the value of txt to upper case.\n",
    "\n",
    "txt = \"Hello World\"\n",
    "txt = \n",
    "txt.upper()\n",
    "\n",
    "4) Convert the value of txt to lower case.\n",
    "\n",
    "txt = \"Hello World\"\n",
    "txt = \n",
    "txt.lower()\n",
    "\n",
    "5) Replace the character H with a J.\n",
    "\n",
    "txt = \"Hello World\"\n",
    "txt = txt.replace('H', 'J')"
   ]
  },
  {
   "cell_type": "markdown",
   "id": "64e94f53-b03f-4e34-8f42-f2641fe74302",
   "metadata": {},
   "source": [
    "String Concatenation"
   ]
  },
  {
   "cell_type": "code",
   "execution_count": null,
   "id": "a6152f0a-57de-4f0d-9cf7-c8aa71fccb98",
   "metadata": {},
   "outputs": [],
   "source": [
    "a = \"Hello\"\n",
    "b = \"World\"\n",
    "c = a + b\n",
    "print(c)"
   ]
  },
  {
   "cell_type": "code",
   "execution_count": null,
   "id": "7574e454-69a6-4754-a75c-7c5a2413086d",
   "metadata": {},
   "outputs": [],
   "source": [
    "a = \"Hello\"\n",
    "b = \"World\"\n",
    "c = a + \" \" + b\n",
    "print(c)"
   ]
  },
  {
   "cell_type": "markdown",
   "id": "bc4d26e7-90ac-4a55-8acd-3e06428befd7",
   "metadata": {},
   "source": [
    "Test"
   ]
  },
  {
   "cell_type": "markdown",
   "id": "2fdc560a-efee-4bb9-8c09-9e4df0afd44e",
   "metadata": {},
   "source": [
    "1) What is a correct syntax to merge variable x and y into variable z?\n",
    "ans: z = x + y\n",
    "\n",
    "2) What will be the result of the following code:\n",
    "x = 'Welcome'\n",
    "y = 'Coders'\n",
    "print(x + y)\n",
    "ans: WelcomeCoders\n",
    "\n",
    "3) Consider this code:\n",
    "a = 'Join'\n",
    "b = 'the'\n",
    "c = 'party'\n",
    "What is a correct syntax to print 'Join the party'?\n",
    "ans: print(a + ' ' + b + ' ' + c)"
   ]
  },
  {
   "cell_type": "markdown",
   "id": "0ac71a91-697a-456f-9650-a12ac4cfc4d4",
   "metadata": {},
   "source": [
    "Format - String"
   ]
  },
  {
   "cell_type": "code",
   "execution_count": null,
   "id": "dc21e89e-b68f-4557-b832-38d35b694e64",
   "metadata": {},
   "outputs": [],
   "source": [
    "#cannot combine int and str\n",
    "age = 36\n",
    "txt = \"My name is John, I am \" + age\n",
    "print(txt)"
   ]
  },
  {
   "cell_type": "code",
   "execution_count": null,
   "id": "35da0d12-27dd-404c-a800-76b7916d08d7",
   "metadata": {},
   "outputs": [],
   "source": [
    "#F-Strings\n",
    "age = 36\n",
    "txt = f\"My name is John, I am {age}\"\n",
    "print(txt)"
   ]
  },
  {
   "cell_type": "code",
   "execution_count": null,
   "id": "652e74a6-02b8-496c-95a1-a41a06d7e521",
   "metadata": {},
   "outputs": [],
   "source": [
    "#Placeholders and Modifiers\n",
    "price = 59\n",
    "txt = f\"The price is {price} dollars\"\n",
    "print(txt)"
   ]
  },
  {
   "cell_type": "code",
   "execution_count": null,
   "id": "df659b1d-19bf-4c0c-a39a-2a8cab2fc2c0",
   "metadata": {},
   "outputs": [],
   "source": [
    "price = 59\n",
    "txt = f\"The price is {price:.2f} dollars\"\n",
    "print(txt)"
   ]
  },
  {
   "cell_type": "code",
   "execution_count": null,
   "id": "871b4d62-d896-494e-b67d-8a3f394f9095",
   "metadata": {},
   "outputs": [],
   "source": [
    "txt = f\"The price is {20 * 59} dollars\"\n",
    "print(txt)"
   ]
  },
  {
   "cell_type": "markdown",
   "id": "037c7a96-7fc7-4c55-914e-f8f6e15908d3",
   "metadata": {},
   "source": [
    "Test"
   ]
  },
  {
   "cell_type": "markdown",
   "id": "8ec1bb04-bc16-4e9e-be8f-ad35634f930e",
   "metadata": {},
   "source": [
    "1) If x = 9, what is a correct syntax to print 'The price is 9.00 dollars'?\n",
    "ans: print(f'The price is {x:.2f} dollars')\n",
    "\n",
    "2) Insert the correct syntax to add a placeholder for the age parameter.\n",
    "\n",
    "age = 36\n",
    "txt = f\"My name is John, and I am {age}\"\n",
    "print(txt)\n",
    "\n",
    "3) What will be the result of the following code:\n",
    "print(f'The price is {2 + 3} dollars')\n",
    "ans: The price is 5 dollars"
   ]
  },
  {
   "cell_type": "markdown",
   "id": "423fc134-92ce-492f-a5bd-99e6ce050a11",
   "metadata": {},
   "source": [
    "Escape Characters"
   ]
  },
  {
   "cell_type": "code",
   "execution_count": null,
   "id": "63fe50a3-bd0f-4778-9b77-ad3385fa49ed",
   "metadata": {},
   "outputs": [],
   "source": [
    "#You will get an error if you use double quotes inside a string\n",
    "#that is surrounded by double quotes:\n",
    "txt = \"We are the so-called \"Vikings\" from the north.\""
   ]
  },
  {
   "cell_type": "code",
   "execution_count": null,
   "id": "18e8063a-4b2f-4585-bc7d-674451546ac3",
   "metadata": {},
   "outputs": [],
   "source": [
    "txt = \"We are the so-called \\\"Vikings\\\" from the north.\""
   ]
  },
  {
   "cell_type": "markdown",
   "id": "d43699f3-dcc7-46bf-8cc5-526701d93f30",
   "metadata": {},
   "source": [
    "\\'\tSingle Quote\t\n",
    "\\\\\tBackslash\t\n",
    "\\n\tNew Line\t\n",
    "\\r\tCarriage Return\t\n",
    "\\t\tTab\t\n",
    "\\b\tBackspace\t\n",
    "\\f\tForm Feed\t\n",
    "\\ooo\tOctal value\t\n",
    "\\xhh\tHex value"
   ]
  },
  {
   "cell_type": "markdown",
   "id": "ba528ff9-5770-4e86-ae1d-e9cf66e75aae",
   "metadata": {},
   "source": [
    "String Methods\n",
    "Method\t        Description\n",
    "capitalize()\tConverts the first character to upper case\n",
    "casefold()\t    Converts string into lower case\n",
    "center()        Returns a centered string\n",
    "count()\t        Returns the number of times a specified value occurs in a string\n",
    "encode()\t    Returns an encoded version of the string\n",
    "endswith()\t    Returns true if the string ends with the specified value\n",
    "expandtabs()\tSets the tab size of the string\n",
    "find()\t        Searches the string for a specified value and returns the position of where it was found\n",
    "\n",
    "format()\t    Formats specified values in a string\n",
    "format_map()\tFormats specified values in a string\n",
    "index()\t        Searches the string for a specified value and returns the position of where it was found\n",
    "\n",
    "isalnum()\tReturns True if all characters in the string are alphanumeric\n",
    "isalpha()\tReturns True if all characters in the string are in the alphabet\n",
    "isascii()\tReturns True if all characters in the string are ascii characters\n",
    "isdecimal()\tReturns True if all characters in the string are decimals\n",
    "isdigit()\tReturns True if all characters in the string are digits\n",
    "isidentifier()\tReturns True if the string is an identifier\n",
    "islower()\tReturns True if all characters in the string are lower case\n",
    "isnumeric()\tReturns True if all characters in the string are numeric\n",
    "isprintable()\tReturns True if all characters in the string are printable\n",
    "isspace()\tReturns True if all characters in the string are whitespaces\n",
    "istitle()\tReturns True if the string follows the rules of a title\n",
    "isupper()\tReturns True if all characters in the string are upper case\n",
    "join()\tJoins the elements of an iterable to the end of the string\n",
    "ljust()\tReturns a left justified version of the string\n",
    "lower()\tConverts a string into lower case\n",
    "lstrip()\tReturns a left trim version of the string\n",
    "maketrans()\tReturns a translation table to be used in translations\n",
    "partition()\tReturns a tuple where the string is parted into three parts\n",
    "replace()\tReturns a string where a specified value is replaced with a specified value\n",
    "rfind()\tSearches the string for a specified value and returns the last position of where it was found\n",
    "rindex()\tSearches the string for a specified value and returns the last position of where it was found\n",
    "rjust()\tReturns a right justified version of the string\n",
    "rpartition()\tReturns a tuple where the string is parted into three parts\n",
    "rsplit()\tSplits the string at the specified separator, and returns a list\n",
    "rstrip()\tReturns a right trim version of the string\n",
    "split()\tSplits the string at the specified separator, and returns a list\n",
    "splitlines()\tSplits the string at line breaks and returns a list\n",
    "startswith()\tReturns true if the string starts with the specified value\n",
    "strip()\tReturns a trimmed version of the string\n",
    "swapcase()\tSwaps cases, lower case becomes upper case and vice versa\n",
    "title()\tConverts the first character of each word to upper case\n",
    "translate()\tReturns a translated string\n",
    "upper()\tConverts a string into upper case\n",
    "zfill()\tFills the string with a specified number of 0 values at the beginning"
   ]
  }
 ],
 "metadata": {
  "kernelspec": {
   "display_name": "Python [conda env:base] *",
   "language": "python",
   "name": "conda-base-py"
  },
  "language_info": {
   "codemirror_mode": {
    "name": "ipython",
    "version": 3
   },
   "file_extension": ".py",
   "mimetype": "text/x-python",
   "name": "python",
   "nbconvert_exporter": "python",
   "pygments_lexer": "ipython3",
   "version": "3.12.7"
  }
 },
 "nbformat": 4,
 "nbformat_minor": 5
}
