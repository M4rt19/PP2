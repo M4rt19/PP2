{
 "cells": [
  {
   "cell_type": "markdown",
   "id": "1eb93878-4d0a-4263-a10e-443eb4328ad4",
   "metadata": {},
   "source": [
    "Data"
   ]
  },
  {
   "cell_type": "code",
   "execution_count": 19,
   "id": "dc0a026b-4de0-4ce5-8c05-e738ab67c7c0",
   "metadata": {},
   "outputs": [
    {
     "name": "stdout",
     "output_type": "stream",
     "text": [
      "2025-03-11 13:40:07.946157\n"
     ]
    }
   ],
   "source": [
    "import datetime\n",
    "\n",
    "a = datetime.date.today()\n",
    "b = datetime.timedelta(5)\n",
    "print(a + b)"
   ]
  },
  {
   "cell_type": "code",
   "execution_count": 23,
   "id": "38cda92e-0565-417c-baa7-5857bf9cb432",
   "metadata": {},
   "outputs": [
    {
     "name": "stdout",
     "output_type": "stream",
     "text": [
      "Yesteraday - 2025-03-05\n",
      "Today - 2025-03-06\n",
      "Tomorrow - 2025-03-07\n"
     ]
    }
   ],
   "source": [
    "import datetime\n",
    "now = datetime.date.today()\n",
    "yesterday = now - datetime.timedelta(1)\n",
    "tomorrow = now + datetime.timedelta(1)\n",
    "print (\"Yesteraday -\", yesterday)\n",
    "print (\"Today -\", now)\n",
    "print (\"Tomorrow -\", tomorrow)\n"
   ]
  },
  {
   "cell_type": "code",
   "execution_count": 29,
   "id": "c608d14a-ca51-43eb-9d82-ca93fff652b2",
   "metadata": {},
   "outputs": [
    {
     "name": "stdout",
     "output_type": "stream",
     "text": [
      "2025:03:06  13:48:11\n"
     ]
    }
   ],
   "source": [
    "import datetime\n",
    "now = datetime.datetime.now()\n",
    "print(now.strftime(\"%Y:%m:%d  %H:%M:%S\"))"
   ]
  },
  {
   "cell_type": "code",
   "execution_count": 53,
   "id": "7e99da90-cb1e-406b-8f7c-6cb061ebb0e8",
   "metadata": {},
   "outputs": [
    {
     "name": "stdout",
     "output_type": "stream",
     "text": [
      "1641600.0\n"
     ]
    }
   ],
   "source": [
    "import datetime\n",
    "a = datetime.datetime(2019, 5, 25)\n",
    "b = datetime.datetime(2019, 6, 13)\n",
    "c = b - a\n",
    "print(c.total_seconds())"
   ]
  },
  {
   "cell_type": "markdown",
   "id": "8cd0c28f-cf6a-448e-8be7-5eea15c4c999",
   "metadata": {},
   "source": [
    "Math"
   ]
  },
  {
   "cell_type": "code",
   "execution_count": 61,
   "id": "60ac8293-939e-4489-b325-65dbc432e4bc",
   "metadata": {},
   "outputs": [
    {
     "name": "stdin",
     "output_type": "stream",
     "text": [
      "Please enter the degree 15\n"
     ]
    },
    {
     "name": "stdout",
     "output_type": "stream",
     "text": [
      "0.2617993877991494\n"
     ]
    }
   ],
   "source": [
    "import math\n",
    "x = float(input(\"Please enter the degree\"))\n",
    "ans = x * math.pi / 180\n",
    "print(ans)"
   ]
  },
  {
   "cell_type": "code",
   "execution_count": 63,
   "id": "2ff0e30b-cd6e-4e63-b4c8-8bc8a2ac5d2b",
   "metadata": {},
   "outputs": [
    {
     "name": "stdout",
     "output_type": "stream",
     "text": [
      "27.5\n"
     ]
    }
   ],
   "source": [
    "import math\n",
    "a = 5\n",
    "b = 6\n",
    "h = 5\n",
    "area = (a + b) / 2 * h\n",
    "print (area)"
   ]
  },
  {
   "cell_type": "code",
   "execution_count": 77,
   "id": "4bcdb4d9-fa0f-44bd-ad64-cad093251c4f",
   "metadata": {},
   "outputs": [
    {
     "name": "stdin",
     "output_type": "stream",
     "text": [
      "Please enter the quantity of sides:  4\n",
      "Please enter the length of side:  25\n"
     ]
    },
    {
     "name": "stdout",
     "output_type": "stream",
     "text": [
      "625.0000000000001\n"
     ]
    }
   ],
   "source": [
    "import math\n",
    "sides = float(input(\"Please enter the quantity of sides: \"))\n",
    "length = float(input(\"Please enter the length of side: \"))\n",
    "apo = length/(2 * math.tan(math.pi/sides))\n",
    "area = sides * length * apo / 2\n",
    "print(area)"
   ]
  },
  {
   "cell_type": "code",
   "execution_count": 81,
   "id": "d94c045f-bec8-41cf-a08a-9b2346ceb122",
   "metadata": {},
   "outputs": [
    {
     "name": "stdin",
     "output_type": "stream",
     "text": [
      "Please enter the length of side:  4\n",
      "Please enter the height of parallelogram 5\n"
     ]
    },
    {
     "name": "stdout",
     "output_type": "stream",
     "text": [
      "Area: 20.0\n"
     ]
    }
   ],
   "source": [
    "import math\n",
    "side = float(input(\"Please enter the length of side: \"))\n",
    "heigth = float(input(\"Please enter the height of parallelogram\"))\n",
    "print(\"Area:\", side * heigth )"
   ]
  },
  {
   "cell_type": "markdown",
   "id": "d76c97ad-1f89-4356-927a-7f36db266872",
   "metadata": {},
   "source": [
    "Generators"
   ]
  },
  {
   "cell_type": "code",
   "execution_count": 146,
   "id": "d4a46595-f819-49e7-9fee-5a470712cd43",
   "metadata": {},
   "outputs": [
    {
     "name": "stdin",
     "output_type": "stream",
     "text": [
      " 10\n"
     ]
    },
    {
     "name": "stdout",
     "output_type": "stream",
     "text": [
      "1\n",
      "4\n",
      "9\n",
      "16\n",
      "25\n",
      "36\n",
      "49\n",
      "64\n",
      "81\n",
      "100\n"
     ]
    }
   ],
   "source": [
    "def squares(num):\n",
    "    for i in range(1, num + 1):\n",
    "        yield i ** 2\n",
    "\n",
    "\n",
    "number = int(input())\n",
    "sq = squares(number)\n",
    "\n",
    "for i in sq:\n",
    "    print(i)"
   ]
  },
  {
   "cell_type": "code",
   "execution_count": 148,
   "id": "9ecf4103-c002-42b8-b0d7-79a5bdd586ba",
   "metadata": {},
   "outputs": [
    {
     "name": "stdin",
     "output_type": "stream",
     "text": [
      " 10\n"
     ]
    },
    {
     "name": "stdout",
     "output_type": "stream",
     "text": [
      "0, 2, 4, 6, 8, 10, "
     ]
    }
   ],
   "source": [
    "def even(number):\n",
    "    for item in range(number + 1):\n",
    "        if item % 2 == 0:\n",
    "            yield item\n",
    "\n",
    "\n",
    "num = int(input())\n",
    "ev = even(num)\n",
    "\n",
    "for i in ev:\n",
    "    print(i, end=', ')"
   ]
  },
  {
   "cell_type": "code",
   "execution_count": 150,
   "id": "4d0c2914-dd38-4127-9d38-56bf522e4a2b",
   "metadata": {},
   "outputs": [
    {
     "name": "stdin",
     "output_type": "stream",
     "text": [
      " 10\n"
     ]
    },
    {
     "name": "stdout",
     "output_type": "stream",
     "text": [
      "0\n"
     ]
    }
   ],
   "source": [
    "def divisible(number):\n",
    "    for item in range(number + 1):\n",
    "        if item % 3 == 0 and item % 4 == 0:\n",
    "            yield item\n",
    "\n",
    "\n",
    "num = int(input())\n",
    "div = divisible(num)\n",
    "\n",
    "for i in div:\n",
    "    print(i)"
   ]
  },
  {
   "cell_type": "code",
   "execution_count": 152,
   "id": "78a937df-bd71-4ca4-9eb5-77d7cddbd59f",
   "metadata": {},
   "outputs": [
    {
     "name": "stdin",
     "output_type": "stream",
     "text": [
      " 5\n",
      " 10\n"
     ]
    },
    {
     "name": "stdout",
     "output_type": "stream",
     "text": [
      "25\n",
      "36\n",
      "49\n",
      "64\n",
      "81\n",
      "100\n"
     ]
    }
   ],
   "source": [
    "def squares(a, b):\n",
    "    for i in range(a, b + 1):\n",
    "        yield i ** 2\n",
    "\n",
    "\n",
    "num1 = int(input())\n",
    "num2 = int(input())\n",
    "sq = squares(num1, num2)\n",
    "\n",
    "for i in sq:\n",
    "    print(i)"
   ]
  },
  {
   "cell_type": "code",
   "execution_count": 154,
   "id": "ed96df6e-d9eb-4eb9-8736-3eb9c0e11378",
   "metadata": {},
   "outputs": [
    {
     "name": "stdin",
     "output_type": "stream",
     "text": [
      " 10\n"
     ]
    },
    {
     "name": "stdout",
     "output_type": "stream",
     "text": [
      "10\n",
      "9\n",
      "8\n",
      "7\n",
      "6\n",
      "5\n",
      "4\n",
      "3\n",
      "2\n",
      "1\n",
      "0\n"
     ]
    }
   ],
   "source": [
    "def revers(number):\n",
    "    for i in range(number, -1, -1):\n",
    "        yield i\n",
    "\n",
    "\n",
    "num = int(input())\n",
    "rev = revers(num)\n",
    "\n",
    "for i in rev:\n",
    "    print(i)"
   ]
  },
  {
   "cell_type": "code",
   "execution_count": 141,
   "id": "70acd760-6cfe-490d-9bbc-bf7c2aa0cad2",
   "metadata": {},
   "outputs": [
    {
     "name": "stdout",
     "output_type": "stream",
     "text": [
      "Interface Status\n",
      "============================================================================\n",
      "DN                                             Description      Speed  MTU \n",
      "------------------------------------------ ------------------- ------- ----\n",
      "topology/pod-1/node-201/sys/phys-[eth1/33]                     inherit 9150\n",
      "topology/pod-1/node-201/sys/phys-[eth1/34]                     inherit 9150\n",
      "topology/pod-1/node-201/sys/phys-[eth1/35]                     inherit 9150\n",
      "topology/pod-1/node-201/sys/phys-[eth1/36]                     inherit 9150\n",
      "topology/pod-1/node-201/sys/phys-[eth1/1]                     inherit 9150\n",
      "topology/pod-1/node-201/sys/phys-[eth1/2]                     inherit 9150\n",
      "topology/pod-1/node-201/sys/phys-[eth1/3]                     inherit 9150\n",
      "topology/pod-1/node-201/sys/phys-[eth1/4]                     inherit 9150\n",
      "topology/pod-1/node-201/sys/phys-[eth1/5]                     inherit 9150\n",
      "topology/pod-1/node-201/sys/phys-[eth1/6]                     inherit 9150\n",
      "topology/pod-1/node-201/sys/phys-[eth1/7]                     inherit 9150\n",
      "topology/pod-1/node-201/sys/phys-[eth1/8]                     inherit 9150\n",
      "topology/pod-1/node-201/sys/phys-[eth1/9]                     inherit 9150\n",
      "topology/pod-1/node-201/sys/phys-[eth1/10]                     inherit 9150\n",
      "topology/pod-1/node-201/sys/phys-[eth1/11]                     inherit 9150\n",
      "topology/pod-1/node-201/sys/phys-[eth1/12]                     inherit 9150\n",
      "topology/pod-1/node-201/sys/phys-[eth1/13]                     inherit 9150\n",
      "topology/pod-1/node-201/sys/phys-[eth1/14]                     inherit 9150\n"
     ]
    }
   ],
   "source": [
    "import json\n",
    "\n",
    "with open('sample-data.json', 'r') as file:\n",
    "    data = json.load(file)\n",
    "\n",
    "print('Interface Status')\n",
    "print('================================================='\n",
    "      '===========================')\n",
    "print('DN                                             '\n",
    "      'Description      Speed  MTU ')\n",
    "print('------------------------------------------ '\n",
    "      '------------------- ------- ----')\n",
    "for item in data['imdata']:\n",
    "    if item['l1PhysIf']['attributes']['dn'][-3] == '/':\n",
    "        print(f\"{item['l1PhysIf']['attributes']['dn']}                     \"\n",
    "              f\" {item['l1PhysIf']['attributes']['speed']}\"\n",
    "              f\" {item['l1PhysIf']['attributes']['mtu']}\")\n",
    "    else:\n",
    "        print(f\"{item['l1PhysIf']['attributes']['dn']}                    \"\n",
    "              f\" {item['l1PhysIf']['attributes']['speed']}\"\n",
    "              f\" {item['l1PhysIf']['attributes']['mtu']}\")"
   ]
  },
  {
   "cell_type": "code",
   "execution_count": null,
   "id": "4d809d32-56e4-45d9-99d4-0f7a70cc5bf5",
   "metadata": {},
   "outputs": [],
   "source": []
  }
 ],
 "metadata": {
  "kernelspec": {
   "display_name": "Python [conda env:base] *",
   "language": "python",
   "name": "conda-base-py"
  },
  "language_info": {
   "codemirror_mode": {
    "name": "ipython",
    "version": 3
   },
   "file_extension": ".py",
   "mimetype": "text/x-python",
   "name": "python",
   "nbconvert_exporter": "python",
   "pygments_lexer": "ipython3",
   "version": "3.12.7"
  }
 },
 "nbformat": 4,
 "nbformat_minor": 5
}
