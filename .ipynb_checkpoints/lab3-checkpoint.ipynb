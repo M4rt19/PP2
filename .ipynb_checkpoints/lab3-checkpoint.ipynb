{
 "cells": [
  {
   "cell_type": "markdown",
   "id": "6b78efce-3098-4850-b441-e20b7a1bf22a",
   "metadata": {},
   "source": [
    "Functions"
   ]
  },
  {
   "cell_type": "code",
   "execution_count": 8,
   "id": "bca8e989-f592-4f84-9393-ff3e4eab8fcd",
   "metadata": {},
   "outputs": [
    {
     "name": "stdin",
     "output_type": "stream",
     "text": [
      "Hi, please enter the weight in gramm to convert to ounces 5\n"
     ]
    },
    {
     "name": "stdout",
     "output_type": "stream",
     "text": [
      "Weight in ounces -  141.7476155\n"
     ]
    }
   ],
   "source": [
    "def ounces():\n",
    "    a = float(input('Hi, please enter the weight in gramm to convert to ounces'))\n",
    "    print('Weight in ounces - ', a * 28.3495231)\n",
    "ounces()"
   ]
  },
  {
   "cell_type": "code",
   "execution_count": 12,
   "id": "5f400a7a-9902-4e49-8071-b69db76862d9",
   "metadata": {},
   "outputs": [
    {
     "name": "stdin",
     "output_type": "stream",
     "text": [
      "Please enter the value of temperature in Fahrenheit 4\n"
     ]
    },
    {
     "name": "stdout",
     "output_type": "stream",
     "text": [
      "Temperature in Celcius:  -15.555555555555557\n"
     ]
    }
   ],
   "source": [
    "def celcius():\n",
    "    a = float(input('Please enter the value of temperature in Fahrenheit'))\n",
    "    print('Temperature in Celcius: ', ((5 / 9)*(a - 32)))\n",
    "\n",
    "celcius()"
   ]
  },
  {
   "cell_type": "code",
   "execution_count": 20,
   "id": "1a88d3a8-96f3-46ea-b26c-7e87e7009e6d",
   "metadata": {},
   "outputs": [
    {
     "name": "stdin",
     "output_type": "stream",
     "text": [
      "Please enter the sum of head:  35\n",
      "Please enter the sum of legs:  94\n"
     ]
    },
    {
     "name": "stdout",
     "output_type": "stream",
     "text": [
      "Chickens -  23.0\n",
      "Rabbits -  12.0\n"
     ]
    }
   ],
   "source": [
    "def solve(numheads, numlegs):\n",
    "    y = (4 * numheads - numlegs) / 2\n",
    "    x = numheads - y\n",
    "    print('Chickens - ', y)\n",
    "    print('Rabbits - ', x)\n",
    "\n",
    "a = int(input(\"Please enter the sum of head: \"))\n",
    "b = int(input(\"Please enter the sum of legs: \"))\n",
    "solve(a, b)\n"
   ]
  },
  {
   "cell_type": "code",
   "execution_count": 44,
   "id": "4118f06e-536e-4762-8981-564fa4a03271",
   "metadata": {},
   "outputs": [
    {
     "name": "stdin",
     "output_type": "stream",
     "text": [
      "Please enter the numbers:  10 11 12\n"
     ]
    },
    {
     "name": "stdout",
     "output_type": "stream",
     "text": [
      "11\n"
     ]
    }
   ],
   "source": [
    "def filter_prime(lst):\n",
    "    prime = {}\n",
    "    for i in range(len(lst)):\n",
    "        a = 1\n",
    "        b = int(lst[i])\n",
    "        for j in range(2, b):\n",
    "            if b % j == 0:\n",
    "                a = 0\n",
    "        if a == 1:\n",
    "            print(lst[i])\n",
    "\n",
    "a = list(map(int, input('Please enter the numbers: ').split()))\n",
    "filter_prime(a)\n",
    "\n"
   ]
  },
  {
   "cell_type": "code",
   "execution_count": 108,
   "id": "4f5d7318-f9ce-4496-8751-e72a620b0334",
   "metadata": {},
   "outputs": [
    {
     "name": "stdin",
     "output_type": "stream",
     "text": [
      "Please enter the words:  abcde\n"
     ]
    },
    {
     "name": "stdout",
     "output_type": "stream",
     "text": [
      "['a', 'b', 'c', 'e', 'd']\n",
      "['a', 'b', 'e', 'c', 'd']\n",
      "['a', 'e', 'b', 'c', 'd']\n",
      "['e', 'a', 'b', 'c', 'd']\n",
      "['d', 'a', 'b', 'c', 'e']\n",
      "['d', 'a', 'b', 'e', 'c']\n",
      "['d', 'a', 'e', 'b', 'c']\n",
      "['d', 'e', 'a', 'b', 'c']\n",
      "['e', 'd', 'a', 'b', 'c']\n",
      "['c', 'd', 'a', 'b', 'e']\n",
      "['c', 'd', 'a', 'e', 'b']\n",
      "['c', 'd', 'e', 'a', 'b']\n",
      "['c', 'e', 'd', 'a', 'b']\n",
      "['e', 'c', 'd', 'a', 'b']\n",
      "['b', 'c', 'd', 'a', 'e']\n",
      "['b', 'c', 'd', 'e', 'a']\n",
      "['b', 'c', 'e', 'd', 'a']\n",
      "['b', 'e', 'c', 'd', 'a']\n",
      "['e', 'b', 'c', 'd', 'a']\n",
      "['a', 'b', 'c', 'd', 'e']\n",
      "['a', 'b', 'c', 'e', 'd']\n",
      "['a', 'b', 'e', 'c', 'd']\n",
      "['a', 'e', 'b', 'c', 'd']\n",
      "['e', 'a', 'b', 'c', 'd']\n",
      "['d', 'a', 'b', 'c', 'e']\n",
      "['d', 'a', 'b', 'e', 'c']\n",
      "['d', 'a', 'e', 'b', 'c']\n",
      "['d', 'e', 'a', 'b', 'c']\n",
      "['e', 'd', 'a', 'b', 'c']\n",
      "['c', 'd', 'a', 'b', 'e']\n",
      "['c', 'd', 'a', 'e', 'b']\n",
      "['c', 'd', 'e', 'a', 'b']\n",
      "['c', 'e', 'd', 'a', 'b']\n",
      "['e', 'c', 'd', 'a', 'b']\n",
      "['b', 'c', 'd', 'a', 'e']\n",
      "['b', 'c', 'd', 'e', 'a']\n",
      "['b', 'c', 'e', 'd', 'a']\n",
      "['b', 'e', 'c', 'd', 'a']\n",
      "['e', 'b', 'c', 'd', 'a']\n",
      "['a', 'b', 'c', 'd', 'e']\n",
      "['a', 'b', 'c', 'e', 'd']\n",
      "['a', 'b', 'e', 'c', 'd']\n",
      "['a', 'e', 'b', 'c', 'd']\n",
      "['e', 'a', 'b', 'c', 'd']\n",
      "['d', 'a', 'b', 'c', 'e']\n",
      "['d', 'a', 'b', 'e', 'c']\n",
      "['d', 'a', 'e', 'b', 'c']\n",
      "['d', 'e', 'a', 'b', 'c']\n",
      "['e', 'd', 'a', 'b', 'c']\n",
      "['c', 'd', 'a', 'b', 'e']\n",
      "['c', 'd', 'a', 'e', 'b']\n",
      "['c', 'd', 'e', 'a', 'b']\n",
      "['c', 'e', 'd', 'a', 'b']\n",
      "['e', 'c', 'd', 'a', 'b']\n",
      "['b', 'c', 'd', 'a', 'e']\n",
      "['b', 'c', 'd', 'e', 'a']\n",
      "['b', 'c', 'e', 'd', 'a']\n",
      "['b', 'e', 'c', 'd', 'a']\n",
      "['e', 'b', 'c', 'd', 'a']\n",
      "['a', 'b', 'c', 'd', 'e']\n",
      "['a', 'b', 'c', 'e', 'd']\n",
      "['a', 'b', 'e', 'c', 'd']\n",
      "['a', 'e', 'b', 'c', 'd']\n",
      "['e', 'a', 'b', 'c', 'd']\n",
      "['d', 'a', 'b', 'c', 'e']\n",
      "['d', 'a', 'b', 'e', 'c']\n",
      "['d', 'a', 'e', 'b', 'c']\n",
      "['d', 'e', 'a', 'b', 'c']\n",
      "['e', 'd', 'a', 'b', 'c']\n",
      "['c', 'd', 'a', 'b', 'e']\n",
      "['c', 'd', 'a', 'e', 'b']\n",
      "['c', 'd', 'e', 'a', 'b']\n",
      "['c', 'e', 'd', 'a', 'b']\n",
      "['e', 'c', 'd', 'a', 'b']\n",
      "['b', 'c', 'd', 'a', 'e']\n",
      "['b', 'c', 'd', 'e', 'a']\n",
      "['b', 'c', 'e', 'd', 'a']\n",
      "['b', 'e', 'c', 'd', 'a']\n",
      "['e', 'b', 'c', 'd', 'a']\n",
      "['a', 'b', 'c', 'd', 'e']\n",
      "['a', 'b', 'c', 'e', 'd']\n",
      "['a', 'b', 'e', 'c', 'd']\n",
      "['a', 'e', 'b', 'c', 'd']\n",
      "['e', 'a', 'b', 'c', 'd']\n",
      "['d', 'a', 'b', 'c', 'e']\n",
      "['d', 'a', 'b', 'e', 'c']\n",
      "['d', 'a', 'e', 'b', 'c']\n",
      "['d', 'e', 'a', 'b', 'c']\n",
      "['e', 'd', 'a', 'b', 'c']\n",
      "['c', 'd', 'a', 'b', 'e']\n",
      "['c', 'd', 'a', 'e', 'b']\n",
      "['c', 'd', 'e', 'a', 'b']\n",
      "['c', 'e', 'd', 'a', 'b']\n",
      "['e', 'c', 'd', 'a', 'b']\n",
      "['b', 'c', 'd', 'a', 'e']\n",
      "['b', 'c', 'd', 'e', 'a']\n",
      "['b', 'c', 'e', 'd', 'a']\n",
      "['b', 'e', 'c', 'd', 'a']\n",
      "['e', 'b', 'c', 'd', 'a']\n",
      "['a', 'b', 'c', 'd', 'e']\n",
      "['a', 'b', 'c', 'e', 'd']\n",
      "['a', 'b', 'e', 'c', 'd']\n",
      "['a', 'e', 'b', 'c', 'd']\n",
      "['e', 'a', 'b', 'c', 'd']\n",
      "['d', 'a', 'b', 'c', 'e']\n",
      "['d', 'a', 'b', 'e', 'c']\n",
      "['d', 'a', 'e', 'b', 'c']\n",
      "['d', 'e', 'a', 'b', 'c']\n",
      "['e', 'd', 'a', 'b', 'c']\n",
      "['c', 'd', 'a', 'b', 'e']\n",
      "['c', 'd', 'a', 'e', 'b']\n",
      "['c', 'd', 'e', 'a', 'b']\n",
      "['c', 'e', 'd', 'a', 'b']\n",
      "['e', 'c', 'd', 'a', 'b']\n",
      "['b', 'c', 'd', 'a', 'e']\n",
      "['b', 'c', 'd', 'e', 'a']\n",
      "['b', 'c', 'e', 'd', 'a']\n",
      "['b', 'e', 'c', 'd', 'a']\n",
      "['e', 'b', 'c', 'd', 'a']\n",
      "['a', 'b', 'c', 'd', 'e']\n"
     ]
    }
   ],
   "source": [
    "def permutation(a, b):\n",
    "    cnt = 1\n",
    "    \n",
    "    for j in range(int(b / len(a)), 0, -1):\n",
    "        for i in range(len(a) - 1, -1, -1):\n",
    "            \n",
    "            x = a[i]\n",
    "            a[i] = a[i - 1]\n",
    "            a[i - 1] = x\n",
    "            \n",
    "            cnt += 1\n",
    "            \n",
    "            if cnt == len(a):\n",
    "                cnt = 0\n",
    "            \n",
    "            print(a)\n",
    "        \n",
    "a = list(input(\"Please enter the words: \")) #использовал list так как не смог менять местами буквы в строке\n",
    "factorial = 1\n",
    "\n",
    "for i in range(1, len(a) + 1):\n",
    "    factorial *= i\n",
    "\n",
    "permutation(a, factorial)"
   ]
  },
  {
   "cell_type": "code",
   "execution_count": 126,
   "id": "54eca80d-116f-4253-a1ad-6e2a30623117",
   "metadata": {},
   "outputs": [
    {
     "name": "stdin",
     "output_type": "stream",
     "text": [
      "Please enter the sentence:  hello world i am happ to see you\n"
     ]
    },
    {
     "name": "stdout",
     "output_type": "stream",
     "text": [
      "you see to happ am i world hello\n"
     ]
    }
   ],
   "source": [
    "def reversed(a):\n",
    "    x = a.split()\n",
    "    a = str()\n",
    "    for i in range(len(x) - 1, -1, -1):\n",
    "        a = a + x[i]\n",
    "        if i > 0:\n",
    "            a = a + ' '\n",
    "    print(a)\n",
    "    \n",
    "a = str(input('Please enter the sentence: '))\n",
    "reversed(a)"
   ]
  },
  {
   "cell_type": "code",
   "execution_count": 140,
   "id": "819dbc75-60d3-4e45-abf4-053cd9accb00",
   "metadata": {},
   "outputs": [
    {
     "name": "stdin",
     "output_type": "stream",
     "text": [
      "Please enter the numbers:  1 2 3 4 5\n"
     ]
    },
    {
     "data": {
      "text/plain": [
       "False"
      ]
     },
     "execution_count": 140,
     "metadata": {},
     "output_type": "execute_result"
    }
   ],
   "source": [
    "def has_33(nums):\n",
    "    for i in range(0, len(nums) - 1):\n",
    "        if nums[i] == 3 and nums[i] == nums[i + 1]:\n",
    "            check = 1\n",
    "            return True\n",
    "    return False\n",
    "\n",
    "a = list(map(int, input('Please enter the numbers: ').split()))\n",
    "has_33(a)"
   ]
  },
  {
   "cell_type": "code",
   "execution_count": 144,
   "id": "0ca51074-75f1-4b4d-85b7-3da5c457120c",
   "metadata": {},
   "outputs": [
    {
     "name": "stdin",
     "output_type": "stream",
     "text": [
      "Please enter the numbers:  1 2 3 4 0 0 7 \n"
     ]
    },
    {
     "data": {
      "text/plain": [
       "True"
      ]
     },
     "execution_count": 144,
     "metadata": {},
     "output_type": "execute_result"
    }
   ],
   "source": [
    "def spy_game(nums):\n",
    "    for i in range(0 , len(nums) -2):\n",
    "        if a[i] == 0 and a[i] == a[i + 1] and a[i + 2] == 7:\n",
    "            return True\n",
    "    return False\n",
    "\n",
    "a = list(map(int, input('Please enter the numbers: ').split()))\n",
    "spy_game(a)"
   ]
  },
  {
   "cell_type": "code",
   "execution_count": 156,
   "id": "7ba86016-2635-4cb7-95d3-e789b5f57953",
   "metadata": {},
   "outputs": [
    {
     "name": "stdin",
     "output_type": "stream",
     "text": [
      "Please enter the radius:  5\n"
     ]
    },
    {
     "name": "stdout",
     "output_type": "stream",
     "text": [
      "523.3333333333334\n"
     ]
    }
   ],
   "source": [
    "def volume(r):\n",
    "    print(4 * 3.14 * pow(r, 3) / 3)\n",
    "\n",
    "r = float(input('Please enter the radius: '))\n",
    "volume(r)"
   ]
  },
  {
   "cell_type": "code",
   "execution_count": 46,
   "id": "441fae35-8495-40c7-a0c5-612879fb9e4a",
   "metadata": {},
   "outputs": [
    {
     "name": "stdin",
     "output_type": "stream",
     "text": [
      "Please write something:  abc aba abz abc aba bzx\n"
     ]
    },
    {
     "name": "stdout",
     "output_type": "stream",
     "text": [
      "1st:  ['abc']\n",
      "ans:  ['abc', 'aba', 'abz', 'bzx']\n"
     ]
    }
   ],
   "source": [
    "def unique_list(oldList):\n",
    "    \n",
    "    ul = []\n",
    "    ul.append(oldList[0])\n",
    "    print('1st: ', ul)\n",
    "    \n",
    "    for i in range(1, len(oldList)):\n",
    "        a = 1\n",
    "        \n",
    "        for j in range(len(ul)):\n",
    "        \n",
    "            if oldList[i] == ul[j]:\n",
    "                a = 0\n",
    "        \n",
    "        if a == 1:\n",
    "            ul.append(oldList[i])\n",
    "    \n",
    "    print(\"ans: \", ul)\n",
    "\n",
    "\n",
    "oldList = list(input('Please write something: ').split())\n",
    "unique_list(oldList)"
   ]
  },
  {
   "cell_type": "code",
   "execution_count": 50,
   "id": "d8784a0e-43b1-4bf9-b7bd-53106e0e24e0",
   "metadata": {},
   "outputs": [
    {
     "name": "stdin",
     "output_type": "stream",
     "text": [
      "Please write the word or sentence to check:  aba\n"
     ]
    },
    {
     "name": "stdout",
     "output_type": "stream",
     "text": [
      "True\n"
     ]
    }
   ],
   "source": [
    "def is_palindrome(a):\n",
    "    b = a[::-1]\n",
    "    if a == b:\n",
    "        return True\n",
    "    else: return False\n",
    "\n",
    "a = str(input('Please write the word or sentence to check: '))\n",
    "print(is_palindrome(a))"
   ]
  },
  {
   "cell_type": "code",
   "execution_count": 66,
   "id": "481e917a-9569-4256-8ec2-1a76dd3237e2",
   "metadata": {},
   "outputs": [
    {
     "name": "stdin",
     "output_type": "stream",
     "text": [
      "Please enteg the numbers:  10 100 70\n"
     ]
    },
    {
     "name": "stdout",
     "output_type": "stream",
     "text": [
      "**********\n",
      "****************************************************************************************************\n",
      "**********************************************************************\n"
     ]
    }
   ],
   "source": [
    "def histogram(arr):\n",
    "    for i in range(len(arr)):\n",
    "        a = str()\n",
    "        for j in range(arr[i]):\n",
    "            a = a + '*'\n",
    "        print(a)\n",
    "    \n",
    "a = list(map(int, input('Please enteg the numbers: ').split()))\n",
    "histogram(a)"
   ]
  },
  {
   "cell_type": "code",
   "execution_count": 88,
   "id": "2a152ba9-65da-4273-bc12-e94ae44552da",
   "metadata": {},
   "outputs": [
    {
     "name": "stdout",
     "output_type": "stream",
     "text": [
      "Hello! What is your name?\n"
     ]
    },
    {
     "name": "stdin",
     "output_type": "stream",
     "text": [
      " Artem\n"
     ]
    },
    {
     "name": "stdout",
     "output_type": "stream",
     "text": [
      "Well, Artem, I am thinking of a number between 1 and 20.\n",
      "Take a guess.\n"
     ]
    },
    {
     "name": "stdin",
     "output_type": "stream",
     "text": [
      " 10\n"
     ]
    },
    {
     "name": "stdout",
     "output_type": "stream",
     "text": [
      "Your guess is too hight.\n",
      "Take a guess.\n"
     ]
    },
    {
     "name": "stdin",
     "output_type": "stream",
     "text": [
      " 5\n"
     ]
    },
    {
     "name": "stdout",
     "output_type": "stream",
     "text": [
      "Your guess is too hight.\n",
      "Take a guess.\n"
     ]
    },
    {
     "name": "stdin",
     "output_type": "stream",
     "text": [
      " 2\n"
     ]
    },
    {
     "name": "stdout",
     "output_type": "stream",
     "text": [
      "Your guess is too low.\n",
      "Take a guess.\n"
     ]
    },
    {
     "name": "stdin",
     "output_type": "stream",
     "text": [
      " 3\n"
     ]
    },
    {
     "name": "stdout",
     "output_type": "stream",
     "text": [
      "Good job, KBTU! You guessed my number in 4 guesses!\n"
     ]
    }
   ],
   "source": [
    "def Guess_the_number():\n",
    "    print('Hello! What is your name?')\n",
    "    name = str(input())\n",
    "    \n",
    "    print(f'Well, {name}, I am thinking of a number between 1 and 20.')\n",
    "    x = random.randint(1, 20)\n",
    "    \n",
    "    b = 0\n",
    "    cnt = 0\n",
    "    \n",
    "    while b != x:\n",
    "        print('Take a guess.')\n",
    "        \n",
    "        b = int(input())\n",
    "        cnt += 1\n",
    "        \n",
    "        if b < x:\n",
    "            print('Your guess is too low.')\n",
    "        elif b > x:\n",
    "            print('Your guess is too hight.')\n",
    "        else: print(f'Good job, KBTU! You guessed my number in {cnt} guesses!')\n",
    "\n",
    "    \n",
    "Guess_the_number()"
   ]
  },
  {
   "cell_type": "code",
   "execution_count": 94,
   "id": "1ef75618-3b59-4716-acd6-5d59dd48be8e",
   "metadata": {},
   "outputs": [
    {
     "ename": "SyntaxError",
     "evalue": "invalid syntax (1483831715.py, line 1)",
     "output_type": "error",
     "traceback": [
      "\u001b[0;36m  Cell \u001b[0;32mIn[94], line 1\u001b[0;36m\u001b[0m\n\u001b[0;31m    from file1ex14 import is_Palindrome.\u001b[0m\n\u001b[0m                                       ^\u001b[0m\n\u001b[0;31mSyntaxError\u001b[0m\u001b[0;31m:\u001b[0m invalid syntax\n"
     ]
    }
   ],
   "source": [
    "from file1ex14 import is_palindrome\n",
    "a = list(map(int, input(\"Please enter the numbers: \").split()))"
   ]
  },
  {
   "cell_type": "code",
   "execution_count": null,
   "id": "fa268f58-0126-4395-8d81-3e33929e5d65",
   "metadata": {},
   "outputs": [],
   "source": []
  }
 ],
 "metadata": {
  "kernelspec": {
   "display_name": "Python [conda env:base] *",
   "language": "python",
   "name": "conda-base-py"
  },
  "language_info": {
   "codemirror_mode": {
    "name": "ipython",
    "version": 3
   },
   "file_extension": ".py",
   "mimetype": "text/x-python",
   "name": "python",
   "nbconvert_exporter": "python",
   "pygments_lexer": "ipython3",
   "version": "3.12.7"
  }
 },
 "nbformat": 4,
 "nbformat_minor": 5
}
