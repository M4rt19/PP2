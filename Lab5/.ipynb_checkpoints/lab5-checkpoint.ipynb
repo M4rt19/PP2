{
 "cells": [
  {
   "cell_type": "code",
   "execution_count": 2,
   "id": "90111f74-e43b-4125-93ed-2cea99a20399",
   "metadata": {},
   "outputs": [
    {
     "name": "stdout",
     "output_type": "stream",
     "text": [
      "['abbb', 'abbb', 'abbb', 'a', 'a', 'abbb', 'a', 'ab', 'ab', 'a']\n"
     ]
    }
   ],
   "source": [
    "import re\n",
    "\n",
    "pattern = r'ab*'\n",
    "text = 'abbbabbbabbbdsdsdsdsdsaaabbbadbababa'\n",
    "\n",
    "result = re.findall(pattern, text)\n",
    "print(result)"
   ]
  },
  {
   "cell_type": "code",
   "execution_count": 4,
   "id": "d2c3ca9b-2ac2-4426-bf70-4e0de3a29a28",
   "metadata": {},
   "outputs": [
    {
     "name": "stdout",
     "output_type": "stream",
     "text": [
      "['abbb', 'abb', 'abbb']\n"
     ]
    }
   ],
   "source": [
    "import re\n",
    "\n",
    "pattern = r'ab{2,3}'\n",
    "text = 'abbbabbabbbbbb'\n",
    "\n",
    "result = re.findall(pattern, text)\n",
    "print(result)"
   ]
  },
  {
   "cell_type": "code",
   "execution_count": 52,
   "id": "77d42018-e6d7-4aea-84cb-46dae243a0f6",
   "metadata": {},
   "outputs": [
    {
     "name": "stdout",
     "output_type": "stream",
     "text": [
      "['my_favourite', 'song_is']\n"
     ]
    }
   ],
   "source": [
    "import re\n",
    "\n",
    "pattern = r'[a-z]+_[a-z]+'\n",
    "text = 'my_favourite_song_is_S&m'\n",
    "\n",
    "result = re.findall(pattern, text)\n",
    "print(result)"
   ]
  },
  {
   "cell_type": "code",
   "execution_count": 56,
   "id": "cafa8525-9d17-42e2-baf2-22954f9a1e04",
   "metadata": {},
   "outputs": [
    {
     "name": "stdout",
     "output_type": "stream",
     "text": [
      "['Sandm']\n"
     ]
    }
   ],
   "source": [
    "import re\n",
    "\n",
    "pattern = r'[A-Z][a-z]+'\n",
    "text = 'my_favourite_song_is_Sandm'\n",
    "\n",
    "result = re.findall(pattern, text)\n",
    "print(result)"
   ]
  },
  {
   "cell_type": "code",
   "execution_count": 25,
   "id": "71072dc1-ee0a-49b1-be8a-61eccb39e0bf",
   "metadata": {},
   "outputs": [
    {
     "name": "stdout",
     "output_type": "stream",
     "text": [
      "['asdsdb']\n"
     ]
    }
   ],
   "source": [
    "import re\n",
    "\n",
    "pattern = r'a.+b'\n",
    "text = 'asdsdbder'\n",
    "\n",
    "result = re.findall(pattern, text)\n",
    "print(result)"
   ]
  },
  {
   "cell_type": "code",
   "execution_count": 27,
   "id": "431534f0-cbd8-461b-8e61-9767e55d8ef5",
   "metadata": {},
   "outputs": [
    {
     "name": "stdout",
     "output_type": "stream",
     "text": [
      "a:sds:d:b\n"
     ]
    }
   ],
   "source": [
    "import re\n",
    "\n",
    "pattern = r'[,. ]'\n",
    "repl = r':'\n",
    "text = 'a,sds.d b'\n",
    "\n",
    "result = re.sub(pattern, repl, text)\n",
    "print(result)"
   ]
  },
  {
   "cell_type": "code",
   "execution_count": 31,
   "id": "80c75e2b-c7ed-4f01-ac89-f64bd76fe26d",
   "metadata": {},
   "outputs": [
    {
     "name": "stdout",
     "output_type": "stream",
     "text": [
      "['my', 'name', 'is', 'artur']\n",
      "MyNameIsArtur\n"
     ]
    }
   ],
   "source": [
    "import re\n",
    "\n",
    "pattern = r'_'\n",
    "text = 'my_favourite_song_is_s&m'\n",
    "\n",
    "result = re.split(pattern, text)\n",
    "print(result)\n",
    "result2 = []\n",
    "for i in result:\n",
    "    result2.append(i[0].upper() + i[1:])\n",
    "print(''.join(result2))"
   ]
  },
  {
   "cell_type": "code",
   "execution_count": 33,
   "id": "09c8ef9b-16f9-4abc-9ebf-c544c9bafd9a",
   "metadata": {},
   "outputs": [
    {
     "name": "stdout",
     "output_type": "stream",
     "text": [
      "['Artur', 'Sasha', 'Artem']\n"
     ]
    }
   ],
   "source": [
    "import re\n",
    "\n",
    "pattern = r'[A-Z][^A-Z]*'\n",
    "text = 'MirasAbylaiNursultan'\n",
    "\n",
    "result = re.findall(pattern, text)\n",
    "print(result)"
   ]
  },
  {
   "cell_type": "code",
   "execution_count": 35,
   "id": "f30ca5c4-a763-4dda-a256-1e5c44c91904",
   "metadata": {},
   "outputs": [
    {
     "name": "stdout",
     "output_type": "stream",
     "text": [
      "Artur Sasha Artem\n"
     ]
    }
   ],
   "source": [
    "import re\n",
    "\n",
    "pattern = r'[A-Z][^A-Z]*'\n",
    "text = 'MirasAbylaiNursultan'\n",
    "\n",
    "result = re.findall(pattern, text)\n",
    "print(' '.join(result))"
   ]
  },
  {
   "cell_type": "code",
   "execution_count": 37,
   "id": "3c841a24-a542-4334-b7f6-a35dc897dae9",
   "metadata": {},
   "outputs": [
    {
     "name": "stdout",
     "output_type": "stream",
     "text": [
      "artur_sasha_artem\n"
     ]
    }
   ],
   "source": [
    "import re\n",
    "\n",
    "pattern = r'[A-Z][^A-Z]*'\n",
    "text = 'MirasAbylaiNursultan'\n",
    "\n",
    "result = re.findall(pattern, text)\n",
    "result2 = []\n",
    "for i in result:\n",
    "    result2.append(i[0].lower() + i[1:])\n",
    "print('_'.join(result2))"
   ]
  },
  {
   "cell_type": "code",
   "execution_count": null,
   "id": "a66a530d-1c18-48ae-b943-5bce740cd5a2",
   "metadata": {},
   "outputs": [],
   "source": []
  }
 ],
 "metadata": {
  "kernelspec": {
   "display_name": "Python [conda env:base] *",
   "language": "python",
   "name": "conda-base-py"
  },
  "language_info": {
   "codemirror_mode": {
    "name": "ipython",
    "version": 3
   },
   "file_extension": ".py",
   "mimetype": "text/x-python",
   "name": "python",
   "nbconvert_exporter": "python",
   "pygments_lexer": "ipython3",
   "version": "3.12.7"
  }
 },
 "nbformat": 4,
 "nbformat_minor": 5
}
